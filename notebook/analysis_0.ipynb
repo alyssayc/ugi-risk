{
 "cells": [
  {
   "cell_type": "markdown",
   "metadata": {},
   "source": [
    "# Analysis 0: Preprocessing\n",
    "- Drop missing variables with > 60% missingness\n",
    "- Demographics table "
   ]
  },
  {
   "cell_type": "markdown",
   "metadata": {},
   "source": [
    "## Import libraries"
   ]
  },
  {
   "cell_type": "code",
   "execution_count": 1,
   "metadata": {},
   "outputs": [],
   "source": [
    "%load_ext rpy2.ipython \n",
    "# Load the R magic extension"
   ]
  },
  {
   "cell_type": "code",
   "execution_count": 2,
   "metadata": {},
   "outputs": [],
   "source": [
    "import pandas as pd\n",
    "import numpy as np\n",
    "import seaborn as sns\n",
    "import matplotlib.pyplot as plt\n",
    "from pathlib import Path\n",
    "import os\n",
    "from datetime import datetime\n",
    "\n",
    "from sklearn.model_selection import train_test_split\n",
    "from sklearn.preprocessing import StandardScaler\n",
    "from sklearn.linear_model import LogisticRegression\n",
    "from sklearn.metrics import log_loss\n",
    "import patsy\n",
    "from lifelines import CoxPHFitter \n",
    "import statsmodels as sm\n",
    "from pathlib import Path"
   ]
  },
  {
   "cell_type": "code",
   "execution_count": 3,
   "metadata": {},
   "outputs": [],
   "source": [
    "# Add the directory to sys.path\n",
    "import sys\n",
    "module_path = Path('./../code')\n",
    "sys.path.append(str(module_path))\n",
    "import utils"
   ]
  },
  {
   "cell_type": "code",
   "execution_count": 4,
   "metadata": {},
   "outputs": [],
   "source": [
    "# Import libraries to allow data to be passed between Python and R env\n",
    "import rpy2.robjects as ro\n",
    "from rpy2.robjects import pandas2ri\n",
    "from rpy2.robjects import r\n",
    "\n",
    "pandas2ri.activate()"
   ]
  },
  {
   "cell_type": "code",
   "execution_count": 5,
   "metadata": {},
   "outputs": [
    {
     "name": "stdout",
     "output_type": "stream",
     "text": [
      "NULL\n"
     ]
    }
   ],
   "source": [
    "%%R\n",
    "# Run this cell to install packages the first time. \n",
    "\n",
    "# install.packages(\"bshazard\")\n",
    "# install.packages(\"survival\")\n",
    "# install.packages(\"tidyr\")\n",
    "# install.packages(\"dplyr\")\n",
    "# install.packages(\"magrittr\")\n",
    "# install.packages(\"tableone\")\n",
    "# install.packages(\"pROC\")\n",
    "# install.packages(\"PRROC\")\n",
    "# install.packages(\"caret\")\n",
    "# install.packages(\"survivalROC\")\n",
    "# install.packages(\"survminer\")\n",
    "# install.packages(\"scales\")\n",
    "# install.packages(\"broom\")\n",
    "# install.packages(\"purrr\")\n"
   ]
  },
  {
   "cell_type": "code",
   "execution_count": 6,
   "metadata": {},
   "outputs": [
    {
     "name": "stderr",
     "output_type": "stream",
     "text": [
      "R[write to console]: Loading required package: splines\n",
      "\n",
      "R[write to console]: Loading required package: survival\n",
      "\n",
      "R[write to console]: Loading required package: Epi\n",
      "\n",
      "R[write to console]: \n",
      "Attaching package: ‘dplyr’\n",
      "\n",
      "\n",
      "R[write to console]: The following objects are masked from ‘package:stats’:\n",
      "\n",
      "    filter, lag\n",
      "\n",
      "\n",
      "R[write to console]: The following objects are masked from ‘package:base’:\n",
      "\n",
      "    intersect, setdiff, setequal, union\n",
      "\n",
      "\n",
      "R[write to console]: \n",
      "Attaching package: ‘magrittr’\n",
      "\n",
      "\n",
      "R[write to console]: The following object is masked from ‘package:tidyr’:\n",
      "\n",
      "    extract\n",
      "\n",
      "\n",
      "R[write to console]: Type 'citation(\"pROC\")' for a citation.\n",
      "\n",
      "R[write to console]: \n",
      "Attaching package: ‘pROC’\n",
      "\n",
      "\n",
      "R[write to console]: The following objects are masked from ‘package:stats’:\n",
      "\n",
      "    cov, smooth, var\n",
      "\n",
      "\n",
      "R[write to console]: Loading required package: rlang\n",
      "\n",
      "R[write to console]: \n",
      "Attaching package: ‘rlang’\n",
      "\n",
      "\n",
      "R[write to console]: The following object is masked from ‘package:magrittr’:\n",
      "\n",
      "    set_names\n",
      "\n",
      "\n",
      "R[write to console]: Loading required package: ggplot2\n",
      "\n",
      "R[write to console]: Loading required package: lattice\n",
      "\n",
      "R[write to console]: \n",
      "Attaching package: ‘caret’\n",
      "\n",
      "\n",
      "R[write to console]: The following object is masked from ‘package:survival’:\n",
      "\n",
      "    cluster\n",
      "\n",
      "\n",
      "R[write to console]: Loading required package: ggpubr\n",
      "\n",
      "R[write to console]: \n",
      "Attaching package: ‘survminer’\n",
      "\n",
      "\n",
      "R[write to console]: The following object is masked from ‘package:survival’:\n",
      "\n",
      "    myeloma\n",
      "\n",
      "\n",
      "R[write to console]: \n",
      "Attaching package: ‘purrr’\n",
      "\n",
      "\n",
      "R[write to console]: The following object is masked from ‘package:scales’:\n",
      "\n",
      "    discard\n",
      "\n",
      "\n",
      "R[write to console]: The following object is masked from ‘package:caret’:\n",
      "\n",
      "    lift\n",
      "\n",
      "\n",
      "R[write to console]: The following objects are masked from ‘package:rlang’:\n",
      "\n",
      "    %@%, flatten, flatten_chr, flatten_dbl, flatten_int, flatten_lgl,\n",
      "    flatten_raw, invoke, splice\n",
      "\n",
      "\n",
      "R[write to console]: The following object is masked from ‘package:magrittr’:\n",
      "\n",
      "    set_names\n",
      "\n",
      "\n"
     ]
    }
   ],
   "source": [
    "%%R\n",
    "library(bshazard)\n",
    "library(survival)\n",
    "library(tidyr)\n",
    "library(dplyr)\n",
    "library(magrittr)\n",
    "library(tableone)\n",
    "library(pROC)\n",
    "library(PRROC)\n",
    "library(caret)\n",
    "library(survivalROC)\n",
    "library(survminer)\n",
    "library(scales)\n",
    "library(finalfit)\n",
    "library(broom)\n",
    "library(broom.helpers)\n",
    "library(purrr)"
   ]
  },
  {
   "cell_type": "code",
   "execution_count": 7,
   "metadata": {},
   "outputs": [],
   "source": [
    "import warnings\n",
    "warnings.filterwarnings('ignore', category=pd.errors.DtypeWarning)\n",
    "\n",
    "# Displays all the columns, does \n",
    "pd.set_option('display.max_columns', None)"
   ]
  },
  {
   "cell_type": "markdown",
   "metadata": {},
   "source": [
    "## Import data"
   ]
  },
  {
   "cell_type": "code",
   "execution_count": 8,
   "metadata": {},
   "outputs": [],
   "source": [
    "demographics_table_filename = './../results/demographics_table.csv'\n",
    "univariate_filename = './../results/univariate_analysis.csv'\n",
    "multivariate_filename = './../results/multivariate_analysis.csv'"
   ]
  },
  {
   "cell_type": "code",
   "execution_count": 9,
   "metadata": {},
   "outputs": [
    {
     "data": {
      "text/plain": [
       "(1745288, 79)"
      ]
     },
     "execution_count": 9,
     "metadata": {},
     "output_type": "execute_result"
    }
   ],
   "source": [
    "data_filename = './../data/cleaned_cohort_20250429.csv'\n",
    "df = pd.read_csv(data_filename)[utils.VARS_TO_ANALYZE]\n",
    "df.shape"
   ]
  },
  {
   "cell_type": "code",
   "execution_count": 10,
   "metadata": {},
   "outputs": [
    {
     "data": {
      "text/plain": [
       "ugica\n",
       "0.0    1744975\n",
       "1.0        313\n",
       "Name: count, dtype: int64"
      ]
     },
     "execution_count": 10,
     "metadata": {},
     "output_type": "execute_result"
    }
   ],
   "source": [
    "df.ugica.value_counts()"
   ]
  },
  {
   "cell_type": "code",
   "execution_count": 11,
   "metadata": {},
   "outputs": [
    {
     "data": {
      "text/plain": [
       "hpylori_active_chronic_binary\n",
       "0    1743688\n",
       "1       1600\n",
       "Name: count, dtype: int64"
      ]
     },
     "execution_count": 11,
     "metadata": {},
     "output_type": "execute_result"
    }
   ],
   "source": [
    "df.hpylori_active_chronic_binary.value_counts()"
   ]
  },
  {
   "cell_type": "code",
   "execution_count": 12,
   "metadata": {},
   "outputs": [],
   "source": [
    "# Pass the DataFrame into the R environment\n",
    "def pass_df(df, r_df_name):\n",
    "    ro.globalenv[r_df_name] = df\n",
    "\n",
    "ro.globalenv['numerical_vars'] = utils.NUMERICAL_VARS\n",
    "ro.globalenv['categorical_vars'] = utils.CATEGORICAL_VARS # + ['sex_clean']\n",
    "ro.globalenv['demographics_table_filename'] = str(demographics_table_filename)\n",
    "ro.globalenv['univariate_filename'] = str(univariate_filename)\n",
    "ro.globalenv['multivariate_filename'] = str(multivariate_filename)"
   ]
  },
  {
   "cell_type": "markdown",
   "metadata": {},
   "source": [
    "##### Add variables to compare with current guidelines for risk-factor triggered screening for EAC"
   ]
  },
  {
   "cell_type": "code",
   "execution_count": 13,
   "metadata": {},
   "outputs": [],
   "source": [
    "def num_risk_factors(row):\n",
    "    score = 0 \n",
    "\n",
    "    if row.age > 50: \n",
    "        score += 1 \n",
    "    if row.sex == 'MALE':\n",
    "        score += 1 \n",
    "    if row.race_clean == 'White':\n",
    "        score += 1\n",
    "    if row.tobacco_binary == '1':\n",
    "        score += 1\n",
    "    if row.gerd == '1':\n",
    "        score += 1\n",
    "    if row.BMI_baseline >= 30:\n",
    "        score += 1 \n",
    "    if row.famhx_esophagealca or row.famhx_barretts:\n",
    "        score += 1 \n",
    "    \n",
    "    return score \n",
    "\n",
    "df['eac_risk_factors_screening'] = df.apply(lambda x: num_risk_factors(x), axis=1)\n",
    "df['meets_screening'] = (df.eac_risk_factors_screening >= 3).astype(int)"
   ]
  },
  {
   "cell_type": "markdown",
   "metadata": {},
   "source": [
    "##### Clean subtype cancer outcomes\n"
   ]
  },
  {
   "cell_type": "code",
   "execution_count": 14,
   "metadata": {},
   "outputs": [],
   "source": [
    "df[['ugica_ESCC', 'ugica_EAC', 'ugica_CGC', 'ugica_NCGC']] = df[['ugica_ESCC', 'ugica_EAC', 'ugica_CGC', 'ugica_NCGC']].fillna(0)"
   ]
  },
  {
   "cell_type": "code",
   "execution_count": 15,
   "metadata": {},
   "outputs": [
    {
     "data": {
      "text/plain": [
       "ugica         313.0\n",
       "ugica_ESCC     62.0\n",
       "ugica_EAC      68.0\n",
       "ugica_CGC      63.0\n",
       "ugica_NCGC    120.0\n",
       "dtype: float64"
      ]
     },
     "execution_count": 15,
     "metadata": {},
     "output_type": "execute_result"
    }
   ],
   "source": [
    "df[['ugica', 'ugica_ESCC', 'ugica_EAC', 'ugica_CGC', 'ugica_NCGC']].sum()"
   ]
  },
  {
   "cell_type": "code",
   "execution_count": 16,
   "metadata": {},
   "outputs": [
    {
     "name": "stderr",
     "output_type": "stream",
     "text": [
      "/Users/alyssa.chen/miniconda3/envs/rpy2_env/lib/python3.10/site-packages/rpy2/robjects/pandas2ri.py:65: UserWarning: Error while trying to convert the column \"subtype\". Fall back to string conversion. The error is: Series can only be of one type, or None (and here we have <class 'float'> and <class 'str'>). If happening with a pandas DataFrame the method infer_objects() will normalize data types before conversion.\n",
      "  warnings.warn('Error while trying to convert '\n"
     ]
    }
   ],
   "source": [
    "pass_df(df, \"r_df\")"
   ]
  },
  {
   "cell_type": "markdown",
   "metadata": {},
   "source": [
    "## Demographics table"
   ]
  },
  {
   "cell_type": "code",
   "execution_count": 17,
   "metadata": {},
   "outputs": [],
   "source": [
    "%%R \n",
    "vars_to_analyze <- unlist(c(categorical_vars, numerical_vars))\n",
    "\n",
    "demtable <- CreateTableOne(\n",
    "    vars = vars_to_analyze,\n",
    "    data = r_df,\n",
    "    factorVars = unlist(categorical_vars),\n",
    "    strata = \"ugica\",\n",
    "    addOverall = TRUE,\n",
    "    includeNA = TRUE\n",
    ")\n",
    "demtable_df <- print(demtable, quote = FALSE, noSpaces = TRUE, printToggle = FALSE, missing = TRUE)\n",
    "\n",
    "write.csv(demtable_df, file = demographics_table_filename)"
   ]
  },
  {
   "cell_type": "markdown",
   "metadata": {},
   "source": [
    "## Preprocessing"
   ]
  },
  {
   "cell_type": "code",
   "execution_count": 18,
   "metadata": {},
   "outputs": [],
   "source": [
    "%%R \n",
    "# Ignore these columns\n",
    "cols_to_ignore <- c(\n",
    "    'months_to_event', 'ugica', 'ugica_ESCC', 'ugica_EAC', 'ugica_CGC', 'ugica_NCGC', \n",
    "    'death', 'subtype', 'visit_year', 'diagnosis_year', 'encounter_type', 'social_language', \n",
    "    'days_to_event', 'days_to_dx', 'days_to_death',\n",
    "    \"eac_risk_factors_screening\", \"meets_screening\"\n",
    ")"
   ]
  },
  {
   "cell_type": "markdown",
   "metadata": {},
   "source": [
    "### Remove variables that have >60% missing"
   ]
  },
  {
   "cell_type": "code",
   "execution_count": 19,
   "metadata": {},
   "outputs": [
    {
     "name": "stdout",
     "output_type": "stream",
     "text": [
      " [1] \"alcohol_all_missing\"            \"alcohol_binary_missing\"        \n",
      " [3] \"hpylori_active_missing\"         \"hpylori_active_chronic_missing\"\n",
      " [5] \"hgball_baseline\"                \"hgb_baseline\"                  \n",
      " [7] \"mcv_baseline\"                   \"wbc_baseline\"                  \n",
      " [9] \"plt_baseline\"                   \"sodium_baseline\"               \n",
      "[11] \"potassium_baseline\"             \"chloride_baseline\"             \n",
      "[13] \"bicarbonate_baseline\"           \"bun_baseline\"                  \n",
      "[15] \"scr_baseline\"                   \"magnesium_baseline\"            \n",
      "[17] \"calcium_baseline\"               \"phosphate_baseline\"            \n",
      "[19] \"ast_baseline\"                   \"alt_baseline\"                  \n",
      "[21] \"alp_baseline\"                   \"tbili_baseline\"                \n",
      "[23] \"tprotein_baseline\"              \"albumin_baseline\"              \n",
      "[25] \"tsh_baseline\"                   \"vitD_baseline\"                 \n",
      "[27] \"triglycerides_baseline\"         \"LDL_baseline\"                  \n",
      "[29] \"hgba1c_baseline\"               \n"
     ]
    }
   ],
   "source": [
    "%%R \n",
    "missing_vars <- names(which(sapply(r_df, function(x) mean(is.na(x))) > 0.60))\n",
    "missing_vars <- missing_vars[!missing_vars %in% cols_to_ignore]\n",
    "missing_vars"
   ]
  },
  {
   "cell_type": "code",
   "execution_count": 20,
   "metadata": {},
   "outputs": [
    {
     "name": "stdout",
     "output_type": "stream",
     "text": [
      "[1] 1745288      81\n",
      "[1] 1745288      52\n"
     ]
    }
   ],
   "source": [
    "%%R \n",
    "print(dim(r_df))\n",
    "r_df_nonmissing <- r_df[, !names(r_df) %in% missing_vars]\n",
    "print(dim(r_df_nonmissing))"
   ]
  },
  {
   "cell_type": "markdown",
   "metadata": {},
   "source": [
    "### Impute mean for continuous variables with <= 60% missing"
   ]
  },
  {
   "cell_type": "code",
   "execution_count": 21,
   "metadata": {},
   "outputs": [
    {
     "name": "stdout",
     "output_type": "stream",
     "text": [
      " [1] \"subtype\"                \"diagnosis_year\"         \"sex_missing\"           \n",
      " [4] \"race_clean_missing\"     \"ethnicity_missing\"      \"social_language\"       \n",
      " [7] \"tobacco_all_missing\"    \"tobacco_binary_missing\" \"age\"                   \n",
      "[10] \"days_to_event\"          \"months_to_event\"        \"days_to_dx\"            \n",
      "[13] \"days_to_death\"          \"height_baseline\"        \"weight_baseline\"       \n",
      "[16] \"BMI_baseline_all\"       \"BMI_baseline\"          \n"
     ]
    }
   ],
   "source": [
    "%%R \n",
    "# Get the variables that still have missing data \n",
    "missing_less_60_vars <- names(which(sapply(r_df_nonmissing, function(x) mean(is.na(x))) > 0))\n",
    "missing_less_60_vars"
   ]
  },
  {
   "cell_type": "code",
   "execution_count": 22,
   "metadata": {},
   "outputs": [],
   "source": [
    "%%R \n",
    "cols_to_impute <- c('BMI_baseline_all', 'BMI_baseline', 'height_baseline', 'weight_baseline')\n",
    "\n",
    "r_df_imputed <- r_df_nonmissing %>%\n",
    "  mutate(across(all_of(cols_to_impute), ~ ifelse(is.na(.), mean(., na.rm = TRUE), .)))"
   ]
  },
  {
   "cell_type": "code",
   "execution_count": 23,
   "metadata": {},
   "outputs": [
    {
     "name": "stdout",
     "output_type": "stream",
     "text": [
      " [1] \"Min.   :    0.0  \" \"1st Qu.:   23.8  \" \"Median :   27.1  \"\n",
      " [4] \"Mean   :   31.5  \" \"3rd Qu.:   31.2  \" \"Max.   :48330.8  \"\n",
      " [7] \"NA's   :820984  \"  \"Min.   :    0.0  \" \"1st Qu.:   23.8  \"\n",
      "[10] \"Median :   27.2  \" \"Mean   :   32.6  \" \"3rd Qu.:   31.2  \"\n",
      "[13] \"Max.   :48307.3  \" \"NA's   :836779  \"  \"Min.   :  1.6  \"  \n",
      "[16] \"1st Qu.: 63.0  \"   \"Median : 66.0  \"   \"Mean   : 66.0  \"  \n",
      "[19] \"3rd Qu.: 69.0  \"   \"Max.   :115.0  \"   \"NA's   :766584  \" \n",
      "[22] \"Min.   :    4  \"   \"1st Qu.: 2304  \"   \"Median : 2720  \"  \n",
      "[25] \"Mean   : 2794  \"   \"3rd Qu.: 3184  \"   \"Max.   :23648  \"  \n",
      "[28] \"NA's   :714568  \" \n"
     ]
    }
   ],
   "source": [
    "%%R \n",
    "# Before imputation\n",
    "summary(r_df_nonmissing[, cols_to_impute])"
   ]
  },
  {
   "cell_type": "code",
   "execution_count": 24,
   "metadata": {},
   "outputs": [
    {
     "name": "stdout",
     "output_type": "stream",
     "text": [
      " [1] \"Min.   :    0.04  \" \"1st Qu.:   26.64  \" \"Median :   31.53  \"\n",
      " [4] \"Mean   :   31.53  \" \"3rd Qu.:   31.53  \" \"Max.   :48330.77  \"\n",
      " [7] \"Min.   :    0.00  \" \"1st Qu.:   26.80  \" \"Median :   32.63  \"\n",
      "[10] \"Mean   :   32.63  \" \"3rd Qu.:   32.63  \" \"Max.   :48307.30  \"\n",
      "[13] \"Min.   :  1.61  \"   \"1st Qu.: 65.00  \"   \"Median : 65.99  \"  \n",
      "[16] \"Mean   : 65.99  \"   \"3rd Qu.: 66.15  \"   \"Max.   :115.00  \"  \n",
      "[19] \"Min.   :    3.98  \" \"1st Qu.: 2576.00  \" \"Median : 2793.47  \"\n",
      "[22] \"Mean   : 2793.47  \" \"3rd Qu.: 2836.80  \" \"Max.   :23648.00  \"\n"
     ]
    }
   ],
   "source": [
    "%%R \n",
    "# After imputation\n",
    "summary(r_df_imputed[, cols_to_impute])"
   ]
  },
  {
   "cell_type": "markdown",
   "metadata": {},
   "source": [
    "### Normalize continuous variables"
   ]
  },
  {
   "cell_type": "code",
   "execution_count": 25,
   "metadata": {},
   "outputs": [
    {
     "name": "stdout",
     "output_type": "stream",
     "text": [
      "[1] 1745288      52\n"
     ]
    }
   ],
   "source": [
    "%%R \n",
    "vars_to_normalize <- names(r_df_imputed)[\n",
    "    !names(r_df_imputed) %in% cols_to_ignore &\n",
    "    names(r_df_imputed) %in% numerical_vars\n",
    "]\n",
    "\n",
    "preproc <- preProcess(r_df_imputed[, vars_to_normalize], method = c(\"center\", \"scale\"))\n",
    "r_df_normal <- predict(preproc, r_df_imputed)\n",
    "dim(r_df_normal)\n"
   ]
  },
  {
   "cell_type": "markdown",
   "metadata": {},
   "source": [
    "### Factorize categorical variables"
   ]
  },
  {
   "cell_type": "code",
   "execution_count": 26,
   "metadata": {},
   "outputs": [],
   "source": [
    "%%R\n",
    "# Remove categorical variables that we do not want to do univariate analysis on\n",
    "vars_categorical_for_univariate <- names(r_df_normal)[\n",
    "    !names(r_df_normal) %in% cols_to_ignore &\n",
    "    names(r_df_normal) %in% categorical_vars\n",
    "]\n",
    "\n",
    "# Factorize \n",
    "for (i in vars_categorical_for_univariate) {\n",
    "    r_df_normal[[i]] <- factor(r_df_normal[[i]])\n",
    "}\n",
    "\n",
    "# Set reference levels \n",
    "r_df_normal$race_clean <- relevel(r_df_normal$race_clean, ref = 'White')\n",
    "r_df_normal$race_clean_missing <- relevel(r_df_normal$race_clean_missing, ref = 'White')\n",
    "r_df_normal$ethnicity <- relevel(r_df_normal$ethnicity, ref='Not Hispanic or Latino')\n",
    "r_df_normal$ethnicity_missing <- relevel(r_df_normal$ethnicity_missing, ref='Not Hispanic or Latino')\n",
    "r_df_normal$alcohol_all <- relevel(r_df_normal$alcohol_all, ref = '0.0')\n",
    "# r_df_normal$alcohol_all_missing <- relevel(r_df_normal$alcohol_all_missing, ref = '0')\n",
    "r_df_normal$alcohol_binary <- relevel(r_df_normal$alcohol_binary, ref = '0')\n",
    "# r_df_normal$alcohol_binary_missing <- relevel(r_df_normal$alcohol_binary_missing, ref = '0')\n",
    "r_df_normal$tobacco_all <- relevel(r_df_normal$tobacco_all, ref = '0.0')\n",
    "r_df_normal$tobacco_all_missing <- relevel(r_df_normal$tobacco_all_missing, ref = '0')\n",
    "r_df_normal$tobacco_binary <- relevel(r_df_normal$tobacco_binary, ref = '0')\n",
    "r_df_normal$tobacco_binary_missing <- relevel(r_df_normal$tobacco_binary_missing, ref = '0')\n",
    "r_df_normal$hpylori_active <- relevel(r_df_normal$hpylori_active, ref = '0.0')\n",
    "# r_df_normal$hpylori_active_missing <- relevel(r_df_normal$hpylori_active_missing, ref = '0')\n",
    "r_df_normal$hpylori_active_chronic <- relevel(r_df_normal$hpylori_active_chronic, ref = '0.0')\n",
    "# r_df_normal$hpylori_active_chronic_missing <- relevel(r_df_normal$hpylori_active_chronic_missing, ref = '0')\n",
    "r_df_normal$hpylori_active_chronic_binary <- relevel(r_df_normal$hpylori_active_chronic_binary, ref = '0')"
   ]
  },
  {
   "cell_type": "code",
   "execution_count": 27,
   "metadata": {},
   "outputs": [],
   "source": [
    "%%R \n",
    "write.csv(r_df_normal, \"df_analysis0_imputed.csv\", row.names = FALSE)"
   ]
  }
 ],
 "metadata": {
  "kernelspec": {
   "display_name": "rpy2_env",
   "language": "python",
   "name": "python3"
  },
  "language_info": {
   "codemirror_mode": {
    "name": "ipython",
    "version": 3
   },
   "file_extension": ".py",
   "mimetype": "text/x-python",
   "name": "python",
   "nbconvert_exporter": "python",
   "pygments_lexer": "ipython3",
   "version": "3.10.13"
  }
 },
 "nbformat": 4,
 "nbformat_minor": 2
}
