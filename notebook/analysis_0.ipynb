{
 "cells": [
  {
   "cell_type": "markdown",
   "metadata": {},
   "source": [
    "# Analysis 0: Preprocessing\n",
    "- Drop missing variables with > 60% missingness\n",
    "- Demographics table "
   ]
  },
  {
   "cell_type": "markdown",
   "metadata": {},
   "source": [
    "## Import libraries"
   ]
  },
  {
   "cell_type": "code",
   "execution_count": 16,
   "metadata": {},
   "outputs": [
    {
     "name": "stdout",
     "output_type": "stream",
     "text": [
      "The rpy2.ipython extension is already loaded. To reload it, use:\n",
      "  %reload_ext rpy2.ipython\n"
     ]
    }
   ],
   "source": [
    "%load_ext rpy2.ipython \n",
    "# Load the R magic extension"
   ]
  },
  {
   "cell_type": "code",
   "execution_count": 17,
   "metadata": {},
   "outputs": [],
   "source": [
    "import pandas as pd\n",
    "import numpy as np\n",
    "import seaborn as sns\n",
    "import matplotlib.pyplot as plt\n",
    "from pathlib import Path\n",
    "import os\n",
    "from datetime import datetime\n",
    "\n",
    "from sklearn.model_selection import train_test_split\n",
    "from sklearn.preprocessing import StandardScaler\n",
    "from sklearn.linear_model import LogisticRegression\n",
    "from sklearn.metrics import log_loss\n",
    "import patsy\n",
    "from lifelines import CoxPHFitter \n",
    "import statsmodels as sm\n",
    "from pathlib import Path"
   ]
  },
  {
   "cell_type": "code",
   "execution_count": 18,
   "metadata": {},
   "outputs": [],
   "source": [
    "# Add the directory to sys.path\n",
    "import sys\n",
    "module_path = Path('./../code')\n",
    "sys.path.append(str(module_path))\n",
    "import utils"
   ]
  },
  {
   "cell_type": "code",
   "execution_count": 19,
   "metadata": {},
   "outputs": [],
   "source": [
    "# Import libraries to allow data to be passed between Python and R env\n",
    "import rpy2.robjects as ro\n",
    "from rpy2.robjects import pandas2ri\n",
    "from rpy2.robjects import r\n",
    "\n",
    "pandas2ri.activate()"
   ]
  },
  {
   "cell_type": "code",
   "execution_count": 20,
   "metadata": {},
   "outputs": [
    {
     "name": "stdout",
     "output_type": "stream",
     "text": [
      "NULL\n"
     ]
    }
   ],
   "source": [
    "%%R\n",
    "# Run this cell to install packages the first time. \n",
    "\n",
    "# install.packages(\"bshazard\")\n",
    "# install.packages(\"survival\")\n",
    "# install.packages(\"tidyr\")\n",
    "# install.packages(\"dplyr\")\n",
    "# install.packages(\"magrittr\")\n",
    "# install.packages(\"tableone\")\n",
    "# install.packages(\"pROC\")\n",
    "# install.packages(\"PRROC\")\n",
    "# install.packages(\"caret\")\n",
    "# install.packages(\"survivalROC\")\n",
    "# install.packages(\"survminer\")\n",
    "# install.packages(\"scales\")\n",
    "# install.packages(\"broom\")\n",
    "# install.packages(\"purrr\")\n"
   ]
  },
  {
   "cell_type": "code",
   "execution_count": 21,
   "metadata": {},
   "outputs": [],
   "source": [
    "%%R\n",
    "library(bshazard)\n",
    "library(survival)\n",
    "library(tidyr)\n",
    "library(dplyr)\n",
    "library(magrittr)\n",
    "library(tableone)\n",
    "library(pROC)\n",
    "library(PRROC)\n",
    "library(caret)\n",
    "library(survivalROC)\n",
    "library(survminer)\n",
    "library(scales)\n",
    "library(finalfit)\n",
    "library(broom)\n",
    "library(broom.helpers)\n",
    "library(purrr)"
   ]
  },
  {
   "cell_type": "code",
   "execution_count": 22,
   "metadata": {},
   "outputs": [],
   "source": [
    "import warnings\n",
    "warnings.filterwarnings('ignore', category=pd.errors.DtypeWarning)\n",
    "\n",
    "# Displays all the columns, does \n",
    "pd.set_option('display.max_columns', None)"
   ]
  },
  {
   "cell_type": "markdown",
   "metadata": {},
   "source": [
    "## Import data"
   ]
  },
  {
   "cell_type": "code",
   "execution_count": 23,
   "metadata": {},
   "outputs": [],
   "source": [
    "demographics_table_filename = './../results/demographics_table.csv'\n",
    "univariate_filename = './../results/univariate_analysis.csv'\n",
    "multivariate_filename = './../results/multivariate_analysis.csv'"
   ]
  },
  {
   "cell_type": "code",
   "execution_count": 24,
   "metadata": {},
   "outputs": [
    {
     "data": {
      "text/plain": [
       "(1745288, 79)"
      ]
     },
     "execution_count": 24,
     "metadata": {},
     "output_type": "execute_result"
    }
   ],
   "source": [
    "data_filename = './../data/cleaned_cohort_20250429.csv'\n",
    "df = pd.read_csv(data_filename)[utils.VARS_TO_ANALYZE]\n",
    "df.shape"
   ]
  },
  {
   "cell_type": "code",
   "execution_count": 25,
   "metadata": {},
   "outputs": [
    {
     "data": {
      "text/plain": [
       "ugica\n",
       "0.0    1744975\n",
       "1.0        313\n",
       "Name: count, dtype: int64"
      ]
     },
     "execution_count": 25,
     "metadata": {},
     "output_type": "execute_result"
    }
   ],
   "source": [
    "df.ugica.value_counts()"
   ]
  },
  {
   "cell_type": "code",
   "execution_count": 26,
   "metadata": {},
   "outputs": [
    {
     "data": {
      "text/plain": [
       "hpylori_active_chronic_binary\n",
       "0    1743688\n",
       "1       1600\n",
       "Name: count, dtype: int64"
      ]
     },
     "execution_count": 26,
     "metadata": {},
     "output_type": "execute_result"
    }
   ],
   "source": [
    "df.hpylori_active_chronic_binary.value_counts()"
   ]
  },
  {
   "cell_type": "code",
   "execution_count": 27,
   "metadata": {},
   "outputs": [],
   "source": [
    "# Pass the DataFrame into the R environment\n",
    "def pass_df(df, r_df_name):\n",
    "    ro.globalenv[r_df_name] = df\n",
    "\n",
    "ro.globalenv['numerical_vars'] = utils.NUMERICAL_VARS\n",
    "ro.globalenv['categorical_vars'] = utils.CATEGORICAL_VARS # + ['sex_clean']\n",
    "ro.globalenv['demographics_table_filename'] = str(demographics_table_filename)\n",
    "ro.globalenv['univariate_filename'] = str(univariate_filename)\n",
    "ro.globalenv['multivariate_filename'] = str(multivariate_filename)"
   ]
  },
  {
   "cell_type": "markdown",
   "metadata": {},
   "source": [
    "##### Create buckets to analyze stratified groups "
   ]
  },
  {
   "cell_type": "code",
   "execution_count": 28,
   "metadata": {},
   "outputs": [],
   "source": [
    "def bucket_visit_year(row):\n",
    "    visit_year = row.visit_year\n",
    "\n",
    "    if 2011 <= visit_year <= 2014:\n",
    "        return \"2011-2014\"\n",
    "    elif 2015 <= visit_year <= 2018:\n",
    "        return \"2015-2018\"\n",
    "    elif visit_year >= 2019:\n",
    "        return \"2019-2022\"\n",
    "    \n",
    "def bucket_age(row):\n",
    "    age = row.age\n",
    "\n",
    "    if 40 <= age < 50:\n",
    "        return \"40-49\"\n",
    "    elif 50 <= age < 60:\n",
    "        return \"50-59\"\n",
    "    elif 60 <= age < 70:\n",
    "        return \"60-69\"\n",
    "    elif 70 <= age < 80:\n",
    "        return \"70-79\"\n",
    "    elif 80 <= age <= 85:\n",
    "        return \"80-85\"\n",
    "    else:\n",
    "        return \"Out of range\"\n"
   ]
  },
  {
   "cell_type": "code",
   "execution_count": 29,
   "metadata": {},
   "outputs": [],
   "source": [
    "df.loc[:, 'visit_year_bucket'] = df.apply(bucket_visit_year, axis=1)\n",
    "df.loc[:, 'age_bucket'] = df.apply(bucket_age, axis=1)"
   ]
  },
  {
   "cell_type": "code",
   "execution_count": 30,
   "metadata": {},
   "outputs": [
    {
     "data": {
      "text/html": [
       "<div>\n",
       "<style scoped>\n",
       "    .dataframe tbody tr th:only-of-type {\n",
       "        vertical-align: middle;\n",
       "    }\n",
       "\n",
       "    .dataframe tbody tr th {\n",
       "        vertical-align: top;\n",
       "    }\n",
       "\n",
       "    .dataframe thead th {\n",
       "        text-align: right;\n",
       "    }\n",
       "</style>\n",
       "<table border=\"1\" class=\"dataframe\">\n",
       "  <thead>\n",
       "    <tr style=\"text-align: right;\">\n",
       "      <th>ugica</th>\n",
       "      <th>0.0</th>\n",
       "      <th>1.0</th>\n",
       "    </tr>\n",
       "    <tr>\n",
       "      <th>visit_year_bucket</th>\n",
       "      <th></th>\n",
       "      <th></th>\n",
       "    </tr>\n",
       "  </thead>\n",
       "  <tbody>\n",
       "    <tr>\n",
       "      <th>2011-2014</th>\n",
       "      <td>314313</td>\n",
       "      <td>153</td>\n",
       "    </tr>\n",
       "    <tr>\n",
       "      <th>2015-2018</th>\n",
       "      <td>702096</td>\n",
       "      <td>142</td>\n",
       "    </tr>\n",
       "    <tr>\n",
       "      <th>2019-2022</th>\n",
       "      <td>728566</td>\n",
       "      <td>18</td>\n",
       "    </tr>\n",
       "  </tbody>\n",
       "</table>\n",
       "</div>"
      ],
      "text/plain": [
       "ugica                 0.0  1.0\n",
       "visit_year_bucket             \n",
       "2011-2014          314313  153\n",
       "2015-2018          702096  142\n",
       "2019-2022          728566   18"
      ]
     },
     "execution_count": 30,
     "metadata": {},
     "output_type": "execute_result"
    }
   ],
   "source": [
    "pd.crosstab(df.visit_year_bucket, df.ugica)"
   ]
  },
  {
   "cell_type": "code",
   "execution_count": 31,
   "metadata": {},
   "outputs": [
    {
     "data": {
      "text/html": [
       "<div>\n",
       "<style scoped>\n",
       "    .dataframe tbody tr th:only-of-type {\n",
       "        vertical-align: middle;\n",
       "    }\n",
       "\n",
       "    .dataframe tbody tr th {\n",
       "        vertical-align: top;\n",
       "    }\n",
       "\n",
       "    .dataframe thead th {\n",
       "        text-align: right;\n",
       "    }\n",
       "</style>\n",
       "<table border=\"1\" class=\"dataframe\">\n",
       "  <thead>\n",
       "    <tr style=\"text-align: right;\">\n",
       "      <th>ugica</th>\n",
       "      <th>0.0</th>\n",
       "      <th>1.0</th>\n",
       "    </tr>\n",
       "    <tr>\n",
       "      <th>age_bucket</th>\n",
       "      <th></th>\n",
       "      <th></th>\n",
       "    </tr>\n",
       "  </thead>\n",
       "  <tbody>\n",
       "    <tr>\n",
       "      <th>40-49</th>\n",
       "      <td>531082</td>\n",
       "      <td>27</td>\n",
       "    </tr>\n",
       "    <tr>\n",
       "      <th>50-59</th>\n",
       "      <td>467977</td>\n",
       "      <td>59</td>\n",
       "    </tr>\n",
       "    <tr>\n",
       "      <th>60-69</th>\n",
       "      <td>407387</td>\n",
       "      <td>116</td>\n",
       "    </tr>\n",
       "    <tr>\n",
       "      <th>70-79</th>\n",
       "      <td>255518</td>\n",
       "      <td>85</td>\n",
       "    </tr>\n",
       "    <tr>\n",
       "      <th>80-85</th>\n",
       "      <td>83002</td>\n",
       "      <td>26</td>\n",
       "    </tr>\n",
       "    <tr>\n",
       "      <th>Out of range</th>\n",
       "      <td>9</td>\n",
       "      <td>0</td>\n",
       "    </tr>\n",
       "  </tbody>\n",
       "</table>\n",
       "</div>"
      ],
      "text/plain": [
       "ugica            0.0  1.0\n",
       "age_bucket               \n",
       "40-49         531082   27\n",
       "50-59         467977   59\n",
       "60-69         407387  116\n",
       "70-79         255518   85\n",
       "80-85          83002   26\n",
       "Out of range       9    0"
      ]
     },
     "execution_count": 31,
     "metadata": {},
     "output_type": "execute_result"
    }
   ],
   "source": [
    "pd.crosstab(df.age_bucket, df.ugica)"
   ]
  },
  {
   "cell_type": "code",
   "execution_count": 32,
   "metadata": {},
   "outputs": [
    {
     "data": {
      "text/plain": [
       "(9, 81)"
      ]
     },
     "execution_count": 32,
     "metadata": {},
     "output_type": "execute_result"
    }
   ],
   "source": [
    "df[df.age.isna()].shape"
   ]
  },
  {
   "cell_type": "markdown",
   "metadata": {},
   "source": [
    "##### Add variables to compare with current guidelines for risk-factor triggered screening for EAC"
   ]
  },
  {
   "cell_type": "code",
   "execution_count": 33,
   "metadata": {},
   "outputs": [],
   "source": [
    "def num_risk_factors(row):\n",
    "    score = 0 \n",
    "\n",
    "    if row.age > 50: \n",
    "        score += 1 \n",
    "    if row.sex == 'MALE':\n",
    "        score += 1 \n",
    "    if row.race_clean == 'White':\n",
    "        score += 1\n",
    "    if row.tobacco_binary == '1':\n",
    "        score += 1\n",
    "    if row.gerd == '1':\n",
    "        score += 1\n",
    "    if row.BMI_baseline >= 30:\n",
    "        score += 1 \n",
    "    if row.famhx_esophagealca or row.famhx_barretts:\n",
    "        score += 1 \n",
    "    \n",
    "    return score \n",
    "\n",
    "df['eac_risk_factors_screening'] = df.apply(lambda x: num_risk_factors(x), axis=1)\n",
    "df['meets_eac_screening'] = (df.eac_risk_factors_screening >= 3).astype(int)"
   ]
  },
  {
   "cell_type": "markdown",
   "metadata": {},
   "source": [
    "##### Clean subtype cancer outcomes\n"
   ]
  },
  {
   "cell_type": "code",
   "execution_count": 34,
   "metadata": {},
   "outputs": [],
   "source": [
    "df[['ugica_ESCC', 'ugica_EAC', 'ugica_CGC', 'ugica_NCGC']] = df[['ugica_ESCC', 'ugica_EAC', 'ugica_CGC', 'ugica_NCGC']].fillna(0)"
   ]
  },
  {
   "cell_type": "code",
   "execution_count": 35,
   "metadata": {},
   "outputs": [
    {
     "data": {
      "text/plain": [
       "ugica         313.0\n",
       "ugica_ESCC     62.0\n",
       "ugica_EAC      68.0\n",
       "ugica_CGC      63.0\n",
       "ugica_NCGC    120.0\n",
       "dtype: float64"
      ]
     },
     "execution_count": 35,
     "metadata": {},
     "output_type": "execute_result"
    }
   ],
   "source": [
    "df[['ugica', 'ugica_ESCC', 'ugica_EAC', 'ugica_CGC', 'ugica_NCGC']].sum()"
   ]
  },
  {
   "cell_type": "code",
   "execution_count": 36,
   "metadata": {},
   "outputs": [
    {
     "name": "stderr",
     "output_type": "stream",
     "text": [
      "/Users/alyssa.chen/miniconda3/envs/rpy2_env/lib/python3.10/site-packages/rpy2/robjects/pandas2ri.py:65: UserWarning: Error while trying to convert the column \"subtype\". Fall back to string conversion. The error is: Series can only be of one type, or None (and here we have <class 'float'> and <class 'str'>). If happening with a pandas DataFrame the method infer_objects() will normalize data types before conversion.\n",
      "  warnings.warn('Error while trying to convert '\n"
     ]
    }
   ],
   "source": [
    "pass_df(df, \"r_df\")"
   ]
  },
  {
   "cell_type": "markdown",
   "metadata": {},
   "source": [
    "## Preprocessing"
   ]
  },
  {
   "cell_type": "code",
   "execution_count": 37,
   "metadata": {},
   "outputs": [],
   "source": [
    "%%R \n",
    "# Ignore these columns\n",
    "cols_to_ignore <- c(\n",
    "    'months_to_event', 'ugica', 'ugica_ESCC', 'ugica_EAC', 'ugica_CGC', 'ugica_NCGC', \n",
    "    'death', 'subtype', 'visit_year', 'diagnosis_year', 'encounter_type', 'social_language', \n",
    "    'days_to_event', 'days_to_dx', 'days_to_death',\n",
    "    \"eac_risk_factors_screening\", \"meets_screening\"\n",
    ")"
   ]
  },
  {
   "cell_type": "markdown",
   "metadata": {},
   "source": [
    "### Remove variables that have >60% missing"
   ]
  },
  {
   "cell_type": "code",
   "execution_count": 38,
   "metadata": {},
   "outputs": [
    {
     "name": "stdout",
     "output_type": "stream",
     "text": [
      " [1] \"alcohol_all_missing\"            \"alcohol_binary_missing\"        \n",
      " [3] \"hpylori_active_missing\"         \"hpylori_active_chronic_missing\"\n",
      " [5] \"hgball_baseline\"                \"hgb_baseline\"                  \n",
      " [7] \"mcv_baseline\"                   \"wbc_baseline\"                  \n",
      " [9] \"plt_baseline\"                   \"sodium_baseline\"               \n",
      "[11] \"potassium_baseline\"             \"chloride_baseline\"             \n",
      "[13] \"bicarbonate_baseline\"           \"bun_baseline\"                  \n",
      "[15] \"scr_baseline\"                   \"magnesium_baseline\"            \n",
      "[17] \"calcium_baseline\"               \"phosphate_baseline\"            \n",
      "[19] \"ast_baseline\"                   \"alt_baseline\"                  \n",
      "[21] \"alp_baseline\"                   \"tbili_baseline\"                \n",
      "[23] \"tprotein_baseline\"              \"albumin_baseline\"              \n",
      "[25] \"tsh_baseline\"                   \"vitD_baseline\"                 \n",
      "[27] \"triglycerides_baseline\"         \"LDL_baseline\"                  \n",
      "[29] \"hgba1c_baseline\"               \n"
     ]
    }
   ],
   "source": [
    "%%R \n",
    "missing_vars <- names(which(sapply(r_df, function(x) mean(is.na(x))) > 0.60))\n",
    "missing_vars <- missing_vars[!missing_vars %in% cols_to_ignore]\n",
    "missing_vars"
   ]
  },
  {
   "cell_type": "code",
   "execution_count": 39,
   "metadata": {},
   "outputs": [
    {
     "name": "stdout",
     "output_type": "stream",
     "text": [
      "[1] 1745288      83\n",
      "[1] 1745288      54\n"
     ]
    }
   ],
   "source": [
    "%%R \n",
    "print(dim(r_df))\n",
    "r_df_nonmissing <- r_df[, !names(r_df) %in% missing_vars]\n",
    "print(dim(r_df_nonmissing))"
   ]
  },
  {
   "cell_type": "markdown",
   "metadata": {},
   "source": [
    "### Impute mean for continuous variables with <= 60% missing"
   ]
  },
  {
   "cell_type": "code",
   "execution_count": 40,
   "metadata": {},
   "outputs": [
    {
     "name": "stdout",
     "output_type": "stream",
     "text": [
      "[1] \"age\"              \"height_baseline\"  \"weight_baseline\"  \"BMI_baseline_all\"\n",
      "[5] \"BMI_baseline\"    \n"
     ]
    }
   ],
   "source": [
    "%%R \n",
    "# Get the variables that have missing data \n",
    "missing_less_60_vars <- names(which(sapply(r_df_nonmissing, function(x) mean(is.na(x))) > 0))\n",
    "\n",
    "# Filter to only include variables in continuous_vars\n",
    "cols_to_impute <- missing_less_60_vars[\n",
    "  (missing_less_60_vars %in% numerical_vars) & \n",
    "  !(missing_less_60_vars %in% cols_to_ignore)\n",
    "]\n",
    "cols_to_impute"
   ]
  },
  {
   "cell_type": "code",
   "execution_count": 41,
   "metadata": {},
   "outputs": [],
   "source": [
    "%%R \n",
    "r_df_imputed <- r_df_nonmissing %>%\n",
    "  mutate(across(all_of(cols_to_impute), ~ ifelse(is.na(.), mean(., na.rm = TRUE), .)))"
   ]
  },
  {
   "cell_type": "code",
   "execution_count": 42,
   "metadata": {},
   "outputs": [
    {
     "name": "stdout",
     "output_type": "stream",
     "text": [
      " [1] \"Min.   :40.00  \"   \"1st Qu.:47.00  \"   \"Median :57.00  \"  \n",
      " [4] \"Mean   :57.71  \"   \"3rd Qu.:67.00  \"   \"Max.   :85.00  \"  \n",
      " [7] \"NA's   :9  \"       \"Min.   :  1.6  \"   \"1st Qu.: 63.0  \"  \n",
      "[10] \"Median : 66.0  \"   \"Mean   : 66.0  \"   \"3rd Qu.: 69.0  \"  \n",
      "[13] \"Max.   :115.0  \"   \"NA's   :766584  \"  \"Min.   :    4  \"  \n",
      "[16] \"1st Qu.: 2304  \"   \"Median : 2720  \"   \"Mean   : 2794  \"  \n",
      "[19] \"3rd Qu.: 3184  \"   \"Max.   :23648  \"   \"NA's   :714568  \" \n",
      "[22] \"Min.   :    0.0  \" \"1st Qu.:   23.8  \" \"Median :   27.1  \"\n",
      "[25] \"Mean   :   31.5  \" \"3rd Qu.:   31.2  \" \"Max.   :48330.8  \"\n",
      "[28] \"NA's   :820984  \"  \"Min.   :    0.0  \" \"1st Qu.:   23.8  \"\n",
      "[31] \"Median :   27.2  \" \"Mean   :   32.6  \" \"3rd Qu.:   31.2  \"\n",
      "[34] \"Max.   :48307.3  \" \"NA's   :836779  \" \n"
     ]
    }
   ],
   "source": [
    "%%R \n",
    "# Before imputation\n",
    "summary(r_df_nonmissing[, cols_to_impute])"
   ]
  },
  {
   "cell_type": "code",
   "execution_count": 43,
   "metadata": {},
   "outputs": [
    {
     "name": "stdout",
     "output_type": "stream",
     "text": [
      " [1] \"Min.   :40.00  \"    \"1st Qu.:47.00  \"    \"Median :57.00  \"   \n",
      " [4] \"Mean   :57.71  \"    \"3rd Qu.:67.00  \"    \"Max.   :85.00  \"   \n",
      " [7] \"Min.   :  1.61  \"   \"1st Qu.: 65.00  \"   \"Median : 65.99  \"  \n",
      "[10] \"Mean   : 65.99  \"   \"3rd Qu.: 66.15  \"   \"Max.   :115.00  \"  \n",
      "[13] \"Min.   :    3.98  \" \"1st Qu.: 2576.00  \" \"Median : 2793.47  \"\n",
      "[16] \"Mean   : 2793.47  \" \"3rd Qu.: 2836.80  \" \"Max.   :23648.00  \"\n",
      "[19] \"Min.   :    0.04  \" \"1st Qu.:   26.64  \" \"Median :   31.53  \"\n",
      "[22] \"Mean   :   31.53  \" \"3rd Qu.:   31.53  \" \"Max.   :48330.77  \"\n",
      "[25] \"Min.   :    0.00  \" \"1st Qu.:   26.80  \" \"Median :   32.63  \"\n",
      "[28] \"Mean   :   32.63  \" \"3rd Qu.:   32.63  \" \"Max.   :48307.30  \"\n"
     ]
    }
   ],
   "source": [
    "%%R \n",
    "# After imputation\n",
    "summary(r_df_imputed[, cols_to_impute])"
   ]
  },
  {
   "cell_type": "markdown",
   "metadata": {},
   "source": [
    "### Normalize continuous variables"
   ]
  },
  {
   "cell_type": "code",
   "execution_count": 44,
   "metadata": {},
   "outputs": [
    {
     "name": "stdout",
     "output_type": "stream",
     "text": [
      "[1] 1745288      54\n"
     ]
    }
   ],
   "source": [
    "%%R \n",
    "vars_to_normalize <- names(r_df_imputed)[\n",
    "    !names(r_df_imputed) %in% cols_to_ignore &\n",
    "    names(r_df_imputed) %in% numerical_vars\n",
    "]\n",
    "\n",
    "preproc <- preProcess(r_df_imputed[, vars_to_normalize], method = c(\"center\", \"scale\"))\n",
    "r_df_normal <- predict(preproc, r_df_imputed)\n",
    "dim(r_df_normal)\n"
   ]
  },
  {
   "cell_type": "markdown",
   "metadata": {},
   "source": [
    "### Add outcome variables"
   ]
  },
  {
   "cell_type": "code",
   "execution_count": 56,
   "metadata": {},
   "outputs": [],
   "source": [
    "%%R \n",
    "source(\"utils.R\") # Wrote this code later in the analysis in R \n",
    "\n",
    "r_df_normal$ugica_5yr <- count_event(r_df_normal, \"ugica\")\n",
    "r_df_normal$escc_5yr <- count_event(r_df_normal, \"ugica_ESCC\")\n",
    "r_df_normal$eac_5yr <- count_event(r_df_normal, \"ugica_EAC\")\n",
    "r_df_normal$cgc_5yr <- count_event(r_df_normal, \"ugica_CGC\")\n",
    "r_df_normal$ncgc_5yr <- count_event(r_df_normal, \"ugica_NCGC\")\n",
    "\n",
    "r_df_normal$ugica_1yr <- count_event(r_df_normal, \"ugica\", horizon_months = 12)\n",
    "r_df_normal$escc_1yr <- count_event(r_df_normal, \"ugica_ESCC\", horizon_months = 12)\n",
    "r_df_normal$eac_1yr <- count_event(r_df_normal, \"ugica_EAC\", horizon_months = 12)\n",
    "r_df_normal$cgc_1yr <- count_event(r_df_normal, \"ugica_CGC\", horizon_months = 12)\n",
    "r_df_normal$ncgc_1yr <- count_event(r_df_normal, \"ugica_NCGC\", horizon_months = 12)\n",
    "\n",
    "r_df_normal$ugica_3yr <- count_event(r_df_normal, \"ugica\", horizon_months = 36)\n",
    "r_df_normal$escc_3yr <- count_event(r_df_normal, \"ugica_ESCC\", horizon_months = 36)\n",
    "r_df_normal$eac_3yr <- count_event(r_df_normal, \"ugica_EAC\", horizon_months = 36)\n",
    "r_df_normal$cgc_3yr <- count_event(r_df_normal, \"ugica_CGC\", horizon_months = 36)\n",
    "r_df_normal$ncgc_3yr <- count_event(r_df_normal, \"ugica_NCGC\", horizon_months = 36)\n",
    "\n",
    "r_df_normal$ugica_10yr <- count_event(r_df_normal, \"ugica\", horizon_months = 120)\n",
    "r_df_normal$escc_10yr <- count_event(r_df_normal, \"ugica_ESCC\", horizon_months = 120)\n",
    "r_df_normal$eac_10yr <- count_event(r_df_normal, \"ugica_EAC\", horizon_months = 120)\n",
    "r_df_normal$cgc_10yr <- count_event(r_df_normal, \"ugica_CGC\", horizon_months = 120)\n",
    "r_df_normal$ncgc_10yr <- count_event(r_df_normal, \"ugica_NCGC\", horizon_months = 120)"
   ]
  },
  {
   "cell_type": "code",
   "execution_count": 75,
   "metadata": {},
   "outputs": [],
   "source": [
    "%%R\n",
    "# Display value counts for each new column\n",
    "new_columns <- c(\n",
    "    'ugica', 'ugica_10yr', 'ugica_5yr', 'ugica_3yr', 'ugica_1yr',\n",
    "    'ugica_ESCC', 'escc_10yr', 'escc_5yr', 'escc_3yr', 'escc_1yr',\n",
    "    'ugica_EAC', 'eac_10yr', 'eac_5yr', 'eac_3yr', 'eac_1yr',\n",
    "    'ugica_CGC', 'cgc_10yr', 'cgc_5yr', 'cgc_3yr', 'cgc_1yr',\n",
    "    'ugica_NCGC', 'ncgc_10yr', 'ncgc_5yr', 'ncgc_3yr', 'ncgc_1yr'\n",
    ")\n",
    "\n",
    "# Convert the table frame to a dataframe\n",
    "value_counts_df <- do.call(rbind, lapply(new_columns, function(col) {\n",
    "    data.frame(Column = col, Cancer = names(table(r_df_normal[[col]])), Count = as.vector(table(r_df_normal[[col]])))\n",
    "}))\n"
   ]
  },
  {
   "cell_type": "code",
   "execution_count": 76,
   "metadata": {},
   "outputs": [
    {
     "name": "stdout",
     "output_type": "stream",
     "text": [
      "       Column Cancer Count\n",
      "2       ugica      1   313\n",
      "4  ugica_10yr      1   293\n",
      "6   ugica_5yr      1   185\n",
      "8   ugica_3yr      1    91\n",
      "11 ugica_ESCC      1    62\n",
      "13  escc_10yr      1    52\n",
      "15   escc_5yr      1    28\n",
      "17   escc_3yr      1    11\n",
      "20  ugica_EAC      1    68\n",
      "22   eac_10yr      1    67\n",
      "24    eac_5yr      1    45\n",
      "26    eac_3yr      1    19\n",
      "29  ugica_CGC      1    63\n",
      "31   cgc_10yr      1    61\n",
      "33    cgc_5yr      1    37\n",
      "35    cgc_3yr      1    15\n",
      "38 ugica_NCGC      1   120\n",
      "40  ncgc_10yr      1   113\n",
      "42   ncgc_5yr      1    75\n",
      "44   ncgc_3yr      1    46\n"
     ]
    }
   ],
   "source": [
    "%%R \n",
    "value_counts_df[value_counts_df$Cancer == 1, ]"
   ]
  },
  {
   "cell_type": "markdown",
   "metadata": {},
   "source": [
    "## Demographics table"
   ]
  },
  {
   "cell_type": "code",
   "execution_count": 77,
   "metadata": {},
   "outputs": [],
   "source": [
    "%%R \n",
    "#vars_to_analyze <- unlist(c(categorical_vars, numerical_vars))\n",
    "\n",
    "demtable <- CreateTableOne(\n",
    "    #vars = vars_to_analyze,\n",
    "    data = r_df_nonmissing,\n",
    "    factorVars = unlist(categorical_vars),\n",
    "    strata = \"ugica\",\n",
    "    addOverall = TRUE,\n",
    "    includeNA = TRUE\n",
    ")\n",
    "demtable_df <- print(demtable, quote = FALSE, noSpaces = TRUE, printToggle = FALSE, missing = TRUE)\n",
    "\n",
    "write.csv(demtable_df, file = demographics_table_filename)"
   ]
  },
  {
   "cell_type": "code",
   "execution_count": 78,
   "metadata": {},
   "outputs": [],
   "source": [
    "%%R \n",
    "write.csv(r_df_normal, \"df_analysis0_imputed.csv\", row.names = FALSE)"
   ]
  }
 ],
 "metadata": {
  "kernelspec": {
   "display_name": "rpy2_env",
   "language": "python",
   "name": "python3"
  },
  "language_info": {
   "codemirror_mode": {
    "name": "ipython",
    "version": 3
   },
   "file_extension": ".py",
   "mimetype": "text/x-python",
   "name": "python",
   "nbconvert_exporter": "python",
   "pygments_lexer": "ipython3",
   "version": "3.10.13"
  }
 },
 "nbformat": 4,
 "nbformat_minor": 2
}
