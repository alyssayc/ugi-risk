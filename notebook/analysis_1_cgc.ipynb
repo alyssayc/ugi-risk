{
 "cells": [
  {
   "cell_type": "markdown",
   "metadata": {},
   "source": [
    "# Analysis 1\n",
    "- Outcome: CGC\n",
    "- Model: CoxPH \n",
    "- Feature selection: Significant variables based on univariate analysis\n",
    "- Predicts 5 year risk for CGC\n",
    "- Risk score threshold determined on 1) 4th quartile and 2) optimal threshold "
   ]
  },
  {
   "cell_type": "markdown",
   "metadata": {},
   "source": [
    "## Import libraries"
   ]
  },
  {
   "cell_type": "code",
   "execution_count": 1,
   "metadata": {},
   "outputs": [],
   "source": [
    "%load_ext rpy2.ipython \n",
    "# Load the R magic extension"
   ]
  },
  {
   "cell_type": "code",
   "execution_count": 2,
   "metadata": {},
   "outputs": [],
   "source": [
    "import pandas as pd\n",
    "import numpy as np\n",
    "import seaborn as sns\n",
    "import matplotlib.pyplot as plt\n",
    "from pathlib import Path\n",
    "import os\n",
    "from datetime import datetime\n",
    "\n",
    "from sklearn.model_selection import train_test_split\n",
    "from sklearn.preprocessing import StandardScaler\n",
    "from sklearn.linear_model import LogisticRegression\n",
    "from sklearn.metrics import log_loss, confusion_matrix\n",
    "import patsy\n",
    "from lifelines import CoxPHFitter \n",
    "import statsmodels as sm\n",
    "from pathlib import Path"
   ]
  },
  {
   "cell_type": "code",
   "execution_count": 3,
   "metadata": {},
   "outputs": [],
   "source": [
    "# Add the directory to sys.path\n",
    "import sys\n",
    "module_path = Path('./../code')\n",
    "sys.path.append(str(module_path))\n",
    "import utils"
   ]
  },
  {
   "cell_type": "code",
   "execution_count": 4,
   "metadata": {},
   "outputs": [],
   "source": [
    "# Import libraries to allow data to be passed between Python and R env\n",
    "import rpy2.robjects as ro\n",
    "from rpy2.robjects import pandas2ri\n",
    "from rpy2.robjects import r\n",
    "\n",
    "pandas2ri.activate()"
   ]
  },
  {
   "cell_type": "code",
   "execution_count": 5,
   "metadata": {},
   "outputs": [
    {
     "name": "stderr",
     "output_type": "stream",
     "text": [
      "R[write to console]: Loading required package: splines\n",
      "\n",
      "R[write to console]: Loading required package: survival\n",
      "\n",
      "R[write to console]: Loading required package: Epi\n",
      "\n",
      "R[write to console]: \n",
      "Attaching package: ‘dplyr’\n",
      "\n",
      "\n",
      "R[write to console]: The following objects are masked from ‘package:stats’:\n",
      "\n",
      "    filter, lag\n",
      "\n",
      "\n",
      "R[write to console]: The following objects are masked from ‘package:base’:\n",
      "\n",
      "    intersect, setdiff, setequal, union\n",
      "\n",
      "\n",
      "R[write to console]: \n",
      "Attaching package: ‘magrittr’\n",
      "\n",
      "\n",
      "R[write to console]: The following object is masked from ‘package:tidyr’:\n",
      "\n",
      "    extract\n",
      "\n",
      "\n",
      "R[write to console]: Type 'citation(\"pROC\")' for a citation.\n",
      "\n",
      "R[write to console]: \n",
      "Attaching package: ‘pROC’\n",
      "\n",
      "\n",
      "R[write to console]: The following objects are masked from ‘package:stats’:\n",
      "\n",
      "    cov, smooth, var\n",
      "\n",
      "\n",
      "R[write to console]: Loading required package: rlang\n",
      "\n",
      "R[write to console]: \n",
      "Attaching package: ‘rlang’\n",
      "\n",
      "\n",
      "R[write to console]: The following object is masked from ‘package:magrittr’:\n",
      "\n",
      "    set_names\n",
      "\n",
      "\n",
      "R[write to console]: Loading required package: ggplot2\n",
      "\n",
      "R[write to console]: Loading required package: lattice\n",
      "\n",
      "R[write to console]: \n",
      "Attaching package: ‘caret’\n",
      "\n",
      "\n",
      "R[write to console]: The following object is masked from ‘package:survival’:\n",
      "\n",
      "    cluster\n",
      "\n",
      "\n",
      "R[write to console]: Loading required package: ggpubr\n",
      "\n",
      "R[write to console]: \n",
      "Attaching package: ‘survminer’\n",
      "\n",
      "\n",
      "R[write to console]: The following object is masked from ‘package:survival’:\n",
      "\n",
      "    myeloma\n",
      "\n",
      "\n",
      "R[write to console]: \n",
      "Attaching package: ‘purrr’\n",
      "\n",
      "\n",
      "R[write to console]: The following object is masked from ‘package:scales’:\n",
      "\n",
      "    discard\n",
      "\n",
      "\n",
      "R[write to console]: The following object is masked from ‘package:caret’:\n",
      "\n",
      "    lift\n",
      "\n",
      "\n",
      "R[write to console]: The following objects are masked from ‘package:rlang’:\n",
      "\n",
      "    %@%, flatten, flatten_chr, flatten_dbl, flatten_int, flatten_lgl,\n",
      "    flatten_raw, invoke, splice\n",
      "\n",
      "\n",
      "R[write to console]: The following object is masked from ‘package:magrittr’:\n",
      "\n",
      "    set_names\n",
      "\n",
      "\n"
     ]
    }
   ],
   "source": [
    "%%R\n",
    "library(bshazard)\n",
    "library(survival)\n",
    "library(tidyr)\n",
    "library(dplyr)\n",
    "library(magrittr)\n",
    "library(tableone)\n",
    "library(pROC)\n",
    "library(PRROC)\n",
    "library(caret)\n",
    "library(survivalROC)\n",
    "library(survminer)\n",
    "library(scales)\n",
    "library(finalfit)\n",
    "library(broom)\n",
    "library(broom.helpers)\n",
    "library(purrr)"
   ]
  },
  {
   "cell_type": "code",
   "execution_count": 6,
   "metadata": {},
   "outputs": [],
   "source": [
    "import warnings\n",
    "warnings.filterwarnings('ignore', category=pd.errors.DtypeWarning)\n",
    "\n",
    "# Displays all the columns, does \n",
    "pd.set_option('display.max_columns', None)"
   ]
  },
  {
   "cell_type": "markdown",
   "metadata": {},
   "source": [
    "## Import data"
   ]
  },
  {
   "cell_type": "code",
   "execution_count": 7,
   "metadata": {},
   "outputs": [],
   "source": [
    "%%R \n",
    "r_df_normal <- read.csv(\"df_analysis0_imputed.csv\")"
   ]
  },
  {
   "cell_type": "code",
   "execution_count": 8,
   "metadata": {},
   "outputs": [],
   "source": [
    "univariate_filename = './../results/univariate_analysis_1_cgc.csv'\n",
    "multivariate_filename = './../results/multivariate_analysis_1_cgc.csv'"
   ]
  },
  {
   "cell_type": "code",
   "execution_count": 9,
   "metadata": {},
   "outputs": [],
   "source": [
    "# Pass the DataFrame into the R environment\n",
    "def pass_df(df, r_df_name):\n",
    "    ro.globalenv[r_df_name] = df\n",
    "\n",
    "ro.globalenv['numerical_vars'] = utils.NUMERICAL_VARS\n",
    "ro.globalenv['categorical_vars'] = utils.CATEGORICAL_VARS # + ['sex_clean']\n",
    "ro.globalenv['univariate_filename'] = str(univariate_filename)\n",
    "ro.globalenv['multivariate_filename'] = str(multivariate_filename)"
   ]
  },
  {
   "cell_type": "markdown",
   "metadata": {},
   "source": [
    "## Univariate analysis"
   ]
  },
  {
   "cell_type": "code",
   "execution_count": 28,
   "metadata": {},
   "outputs": [],
   "source": [
    "%%R \n",
    "source(\"utils.R\") # Import cols_to_ignore"
   ]
  },
  {
   "cell_type": "markdown",
   "metadata": {},
   "source": [
    "### Factorize categorical vars and set reference levels"
   ]
  },
  {
   "cell_type": "code",
   "execution_count": 29,
   "metadata": {},
   "outputs": [],
   "source": [
    "%%R\n",
    "# Remove categorical variables that we do not want to do univariate analysis on\n",
    "vars_categorical_for_univariate <- names(r_df_normal)[\n",
    "    !names(r_df_normal) %in% cols_to_ignore &\n",
    "    names(r_df_normal) %in% categorical_vars\n",
    "]\n",
    "\n",
    "# Factorize \n",
    "for (i in vars_categorical_for_univariate) {\n",
    "    r_df_normal[[i]] <- factor(r_df_normal[[i]])\n",
    "}\n",
    "\n",
    "# Set reference levels \n",
    "r_df_normal$race_clean <- relevel(r_df_normal$race_clean, ref = 'White')\n",
    "r_df_normal$race_clean_missing <- relevel(r_df_normal$race_clean_missing, ref = 'White')\n",
    "r_df_normal$ethnicity <- relevel(r_df_normal$ethnicity, ref='Not Hispanic or Latino')\n",
    "r_df_normal$ethnicity_missing <- relevel(r_df_normal$ethnicity_missing, ref='Not Hispanic or Latino')\n",
    "r_df_normal$alcohol_all <- relevel(r_df_normal$alcohol_all, ref = '0.0')\n",
    "# r_df_normal$alcohol_all_missing <- relevel(r_df_normal$alcohol_all_missing, ref = '0')\n",
    "r_df_normal$alcohol_binary <- relevel(r_df_normal$alcohol_binary, ref = '0')\n",
    "# r_df_normal$alcohol_binary_missing <- relevel(r_df_normal$alcohol_binary_missing, ref = '0')\n",
    "r_df_normal$tobacco_all <- relevel(r_df_normal$tobacco_all, ref = '0.0')\n",
    "r_df_normal$tobacco_all_missing <- relevel(r_df_normal$tobacco_all_missing, ref = '0')\n",
    "r_df_normal$tobacco_binary <- relevel(r_df_normal$tobacco_binary, ref = '0')\n",
    "r_df_normal$tobacco_binary_missing <- relevel(r_df_normal$tobacco_binary_missing, ref = '0')\n",
    "r_df_normal$hpylori_active <- relevel(r_df_normal$hpylori_active, ref = '0.0')\n",
    "# r_df_normal$hpylori_active_missing <- relevel(r_df_normal$hpylori_active_missing, ref = '0')\n",
    "r_df_normal$hpylori_active_chronic <- relevel(r_df_normal$hpylori_active_chronic, ref = '0.0')\n",
    "# r_df_normal$hpylori_active_chronic_missing <- relevel(r_df_normal$hpylori_active_chronic_missing, ref = '0')\n",
    "r_df_normal$hpylori_active_chronic_binary <- relevel(r_df_normal$hpylori_active_chronic_binary, ref = '0')"
   ]
  },
  {
   "cell_type": "code",
   "execution_count": 30,
   "metadata": {},
   "outputs": [
    {
     "name": "stdout",
     "output_type": "stream",
     "text": [
      " [1] \"sex_missing\"                   \"race_clean\"                   \n",
      " [3] \"ethnicity\"                     \"alcohol_binary\"               \n",
      " [5] \"tobacco_binary\"                \"hpylori_active_chronic_binary\"\n",
      " [7] \"hnca\"                          \"achalasia\"                    \n",
      " [9] \"pud\"                           \"gerd\"                         \n",
      "[11] \"cad\"                           \"famhx_cancer\"                 \n",
      "[13] \"famhx_esophagealca\"            \"famhx_gastricca\"              \n",
      "[15] \"famhx_colonca\"                 \"famhx_barretts\"               \n",
      "[17] \"ASA\"                           \"PPI\"                          \n",
      "[19] \"NSAID\"                         \"age\"                          \n",
      "[21] \"BMI_baseline_all\"             \n"
     ]
    }
   ],
   "source": [
    "%%R\n",
    "vars_for_univariate <- names(r_df_normal)[\n",
    "    !names(r_df_normal) %in% cols_to_ignore\n",
    "]\n",
    "vars_for_univariate"
   ]
  },
  {
   "cell_type": "code",
   "execution_count": 31,
   "metadata": {},
   "outputs": [],
   "source": [
    "%%R\n",
    "# TODO Manually edit me\n",
    "vars_for_univariate <- names(r_df_normal)[\n",
    "    !names(r_df_normal) %in% cols_to_ignore\n",
    "]\n",
    "\n",
    "# HRs, 95% CIs, p-values\n",
    "results_list <- list()\n",
    "\n",
    "for (i in vars_for_univariate) {\n",
    "    # Skip if fewer than 2 levels, ie. 100% in one group\n",
    "    if (length(unique(na.omit(r_df_normal[[i]]))) < 2) next\n",
    "\n",
    "    # Build formula\n",
    "    formula <- as.formula(paste(\"Surv(months_to_event, ugica_CGC) ~\", i))\n",
    "    \n",
    "    model <- coxph(formula, data=r_df_normal)\n",
    "\n",
    "    model_summary <- summary(model)\n",
    "    coef <- exp(model_summary$coef[, \"coef\"])\n",
    "    confint_vals <- exp(confint(model))\n",
    "    p_value <- model_summary$coef[, \"Pr(>|z|)\"]\n",
    "\n",
    "    # Extract full term names (e.g., \"sexMale\", \"stageIII\")\n",
    "    terms <- rownames(model_summary$coef)\n",
    "\n",
    "    # Extract factor levels (remove variable name prefix)\n",
    "    is_factor <- i %in% categorical_vars\n",
    "    levels_clean <- if (is_factor) {\n",
    "        sub(paste0(\"^\", i), \"\", terms)\n",
    "    } else {\n",
    "        terms  # use full term name for numeric variables\n",
    "    }\n",
    "\n",
    "    model_df <- data.frame(\n",
    "        Variable = i,\n",
    "        Level = levels_clean,\n",
    "        HR = coef,\n",
    "        CI_lower = confint_vals[, 1],\n",
    "        CI_upper = confint_vals[, 2],\n",
    "        p_value = p_value\n",
    "    )\n",
    "\n",
    "    results_list[[i]] <- model_df\n",
    "}\n",
    "\n",
    "final_results <- do.call(rbind, results_list)\n",
    "write.csv(final_results, univariate_filename)"
   ]
  },
  {
   "cell_type": "code",
   "execution_count": 32,
   "metadata": {},
   "outputs": [],
   "source": [
    "# Print the list of significant variables based on univariate analysis\n",
    "df_univariate = pd.read_csv(univariate_filename)"
   ]
  },
  {
   "cell_type": "code",
   "execution_count": 33,
   "metadata": {},
   "outputs": [
    {
     "data": {
      "text/html": [
       "<div>\n",
       "<style scoped>\n",
       "    .dataframe tbody tr th:only-of-type {\n",
       "        vertical-align: middle;\n",
       "    }\n",
       "\n",
       "    .dataframe tbody tr th {\n",
       "        vertical-align: top;\n",
       "    }\n",
       "\n",
       "    .dataframe thead th {\n",
       "        text-align: right;\n",
       "    }\n",
       "</style>\n",
       "<table border=\"1\" class=\"dataframe\">\n",
       "  <thead>\n",
       "    <tr style=\"text-align: right;\">\n",
       "      <th></th>\n",
       "      <th>Unnamed: 0</th>\n",
       "      <th>Variable</th>\n",
       "      <th>Level</th>\n",
       "      <th>HR</th>\n",
       "      <th>CI_lower</th>\n",
       "      <th>CI_upper</th>\n",
       "      <th>p_value</th>\n",
       "    </tr>\n",
       "  </thead>\n",
       "  <tbody>\n",
       "    <tr>\n",
       "      <th>0</th>\n",
       "      <td>sex_missing</td>\n",
       "      <td>sex_missing</td>\n",
       "      <td>MALE</td>\n",
       "      <td>3.731115</td>\n",
       "      <td>1.989227</td>\n",
       "      <td>6.998308</td>\n",
       "      <td>0.000041</td>\n",
       "    </tr>\n",
       "    <tr>\n",
       "      <th>2</th>\n",
       "      <td>race_clean.race_cleanBlack or African American</td>\n",
       "      <td>race_clean</td>\n",
       "      <td>Black or African American</td>\n",
       "      <td>0.332318</td>\n",
       "      <td>0.139243</td>\n",
       "      <td>0.793112</td>\n",
       "      <td>0.013056</td>\n",
       "    </tr>\n",
       "    <tr>\n",
       "      <th>3</th>\n",
       "      <td>race_clean.race_cleanNo matching concept</td>\n",
       "      <td>race_clean</td>\n",
       "      <td>No matching concept</td>\n",
       "      <td>0.526282</td>\n",
       "      <td>0.281657</td>\n",
       "      <td>0.983372</td>\n",
       "      <td>0.044164</td>\n",
       "    </tr>\n",
       "    <tr>\n",
       "      <th>15</th>\n",
       "      <td>famhx_cancer</td>\n",
       "      <td>famhx_cancer</td>\n",
       "      <td>1</td>\n",
       "      <td>2.102719</td>\n",
       "      <td>1.281572</td>\n",
       "      <td>3.450005</td>\n",
       "      <td>0.003261</td>\n",
       "    </tr>\n",
       "    <tr>\n",
       "      <th>16</th>\n",
       "      <td>famhx_gastricca</td>\n",
       "      <td>famhx_gastricca</td>\n",
       "      <td>1</td>\n",
       "      <td>4.831597</td>\n",
       "      <td>1.754677</td>\n",
       "      <td>13.304066</td>\n",
       "      <td>0.002304</td>\n",
       "    </tr>\n",
       "    <tr>\n",
       "      <th>18</th>\n",
       "      <td>ASA</td>\n",
       "      <td>ASA</td>\n",
       "      <td>1</td>\n",
       "      <td>0.388007</td>\n",
       "      <td>0.155541</td>\n",
       "      <td>0.967907</td>\n",
       "      <td>0.042366</td>\n",
       "    </tr>\n",
       "  </tbody>\n",
       "</table>\n",
       "</div>"
      ],
      "text/plain": [
       "                                        Unnamed: 0         Variable  \\\n",
       "0                                      sex_missing      sex_missing   \n",
       "2   race_clean.race_cleanBlack or African American       race_clean   \n",
       "3         race_clean.race_cleanNo matching concept       race_clean   \n",
       "15                                    famhx_cancer     famhx_cancer   \n",
       "16                                 famhx_gastricca  famhx_gastricca   \n",
       "18                                             ASA              ASA   \n",
       "\n",
       "                        Level        HR  CI_lower   CI_upper   p_value  \n",
       "0                        MALE  3.731115  1.989227   6.998308  0.000041  \n",
       "2   Black or African American  0.332318  0.139243   0.793112  0.013056  \n",
       "3         No matching concept  0.526282  0.281657   0.983372  0.044164  \n",
       "15                          1  2.102719  1.281572   3.450005  0.003261  \n",
       "16                          1  4.831597  1.754677  13.304066  0.002304  \n",
       "18                          1  0.388007  0.155541   0.967907  0.042366  "
      ]
     },
     "execution_count": 33,
     "metadata": {},
     "output_type": "execute_result"
    }
   ],
   "source": [
    "df_univariate[df_univariate.p_value < 0.05]"
   ]
  },
  {
   "cell_type": "markdown",
   "metadata": {},
   "source": [
    "## Feature selection"
   ]
  },
  {
   "cell_type": "code",
   "execution_count": 34,
   "metadata": {},
   "outputs": [
    {
     "name": "stdout",
     "output_type": "stream",
     "text": [
      "[1] \"sex_missing\"     \"race_clean\"      \"famhx_cancer\"    \"famhx_gastricca\"\n",
      "[5] \"ASA\"            \n"
     ]
    }
   ],
   "source": [
    "%%R \n",
    "# TODO Manually edit me\n",
    "selected_vars <- final_results %>%\n",
    "    filter(p_value < 0.05) %>%\n",
    "    distinct(Variable) %>%\n",
    "    pull(Variable)\n",
    "selected_vars\n",
    "\n",
    "selected_vars <- selected_vars[\n",
    "    !selected_vars %in% c(\"sex\", \"race_clean_missing\", \"barretts\") & \n",
    "    !selected_vars %in% cols_to_ignore]\n",
    "selected_vars"
   ]
  },
  {
   "cell_type": "markdown",
   "metadata": {},
   "source": [
    "## CoxPH multivariate model training"
   ]
  },
  {
   "cell_type": "code",
   "execution_count": 35,
   "metadata": {},
   "outputs": [],
   "source": [
    "%%R \n",
    "# TODO Manually edit me\n",
    "library(dplyr)\n",
    "library(caret)\n",
    "library(gridExtra)\n",
    "\n",
    "# Partitions data into training and validation set, percentage split p \n",
    "partition_data <- function(data, selected_vars, seed = 123, p = 0.8) {\n",
    "  rdf <- data %>%\n",
    "    select(months_to_event, ugica_CGC, all_of(selected_vars)) %>%\n",
    "    drop_na()\n",
    "  \n",
    "  set.seed(seed)\n",
    "  train_index <- createDataPartition(rdf$ugica_CGC, p = p, list = FALSE)\n",
    "  \n",
    "  train_set <- rdf[train_index, ]\n",
    "  validation_set <- rdf[-train_index, ]\n",
    "  \n",
    "  # Check the distribution of 'ugica_CGC' in each set\n",
    "  print(paste(c(\"Dataset Controls\", \"Dataset Cases\"), table(rdf$ugica_CGC)))  # Original dataset\n",
    "  print(paste(c(\"Training Controls\", \"Training Cases\"), table(train_set$ugica_CGC)))  # Training set\n",
    "  print(paste(c(\"Validation Controls\", \"Validation Cases\"), table(validation_set$ugica_CGC)))  # Validation set\n",
    "  cat(\"\\n\")\n",
    "\n",
    "  list(train_set = train_set, validation_set = validation_set)\n",
    "}\n",
    "\n",
    "# Trains model\n",
    "train_model <- function(train_set, selected_vars, model_func = coxph) {\n",
    "  formula_str <- paste(\"Surv(months_to_event, ugica_CGC) ~\", paste(selected_vars, collapse = \" + \"))\n",
    "  formula <- as.formula(formula_str)\n",
    "  model <- model_func(formula, data = train_set)\n",
    "  return(model)\n",
    "}\n",
    "\n",
    "# Saves multivariate analysis into filename\n",
    "save_multivariate_results <- function(cox_model, multivariate_filename, variable_labels) {\n",
    "\n",
    "  # Tidy model with variable and level parsed\n",
    "  multivariate_df <- tidy_plus_plus(\n",
    "    cox_model, \n",
    "    exponentiate = TRUE,\n",
    "    variable_labels = variable_labels\n",
    "  ) %>%\n",
    "  mutate(\n",
    "      HR_scaled = estimate / min(estimate, na.rm = TRUE),\n",
    "      HR_rank = round(HR_scaled)\n",
    "  ) \n",
    "\n",
    "  # Save to file\n",
    "  write.csv(multivariate_df, multivariate_filename, row.names = FALSE)\n",
    "  cat(\"Multivariate results saved to\", multivariate_filename, \"\\n\")\n",
    "\n",
    "  return(multivariate_df)\n",
    "}\n",
    "\n",
    "# Gets risk estimate\n",
    "calculate_risk <- function(cox_model, validation_set, horizon_months = 60) {\n",
    "  baseline_hazard <- basehaz(cox_model, centered = FALSE)\n",
    "  H0_t <- approx(baseline_hazard$time, baseline_hazard$hazard, xout = horizon_months)$y\n",
    "  \n",
    "  linear_predictor <- predict(cox_model, newdata = validation_set, type = \"lp\")\n",
    "  H_t_X <- H0_t * exp(linear_predictor)\n",
    "  risk <- 1 - exp(-H_t_X)\n",
    "  \n",
    "  event <- as.numeric(validation_set$months_to_event <= horizon_months & validation_set$ugica_CGC == 1)\n",
    "  \n",
    "  list(risk = risk, event = event)\n",
    "}\n",
    "\n",
    "# Get sensitivity and specificity \n",
    "calculate_cm_by_percentile <- function(risk, event, threshold) {\n",
    "    # Convert the continuous risk scores to binary predictions\n",
    "    predicted_class <- ifelse(risk >= threshold, 1, 0)\n",
    "\n",
    "    cm <- table(event, predicted_class)\n",
    "\n",
    "    # Extracting the values from the confusion matrix\n",
    "    TN <- cm[1, 1]\n",
    "    FP <- cm[1, 2]\n",
    "    FN <- cm[2, 1]\n",
    "    TP <- cm[2, 2]\n",
    "\n",
    "    # Sensitivity (True Positive Rate)\n",
    "    sensitivity <- TP / (TP + FN)\n",
    "\n",
    "    # Specificity (True Negative Rate)\n",
    "    specificity <- TN / (TN + FP)\n",
    "\n",
    "    # Positive Predictive Value (PPV) (Precision)\n",
    "    ppv <- TP / (TP + FP)\n",
    "\n",
    "    # Negative Predictive Value (NPV)\n",
    "    npv <- TN / (TN + FN) \n",
    "\n",
    "    # Number Needed to Screen (NNS)\n",
    "    # cer <- (TP + FN) / (TN + FP + FN + TP) # control event rate is cases/entire population \n",
    "    cer <- FN / (FN + TN) # control event rate is the number of cases in those not screened \n",
    "    ser <- TP / (TP + FP) # screened event rate is the number of cases found / those screened \n",
    "    aer <- ser - cer # absolute event reduction \n",
    "    nns <- 1/aer \n",
    "\n",
    "    # C-statistic (AUROC)\n",
    "    roc_obj <- roc(event, risk)\n",
    "    c_statistic <- auc(roc_obj)\n",
    "\n",
    "    # Print the results\n",
    "    cat(\"C-statistic (AUROC):\", round(c_statistic, 3), \"\\n\")\n",
    "    cat(\"Sensitivity:\", sensitivity, \"\\n\")\n",
    "    cat(\"Specificity:\", specificity, \"\\n\")\n",
    "    cat(\"PPV:\", ppv, \"\\n\")\n",
    "    cat(\"NPV:\", npv, \"\\n\")\n",
    "    cat(\"NNS:\", nns, \"\\n\")\n",
    "    print(cm)\n",
    "}\n",
    "\n",
    "# Plots ROC curve\n",
    "plot_roc_gg <- function(event, risk) {\n",
    "  roc_obj <- roc(event, risk)\n",
    "  df <- data.frame(\n",
    "    FPR = 1 - roc_obj$specificities,\n",
    "    TPR = roc_obj$sensitivities\n",
    "  )\n",
    "  auroc <- round(auc(roc_obj), 2)\n",
    "\n",
    "  ggplot(df, aes(x = FPR, y = TPR)) +\n",
    "    geom_line(color = \"blue\", size = 1.2) +\n",
    "    geom_abline(linetype = \"dashed\", color = \"gray\") +\n",
    "    annotate(\"text\", x = 0.6, y = 0.1, label = paste(\"AUROC =\", auroc), size = 5) +\n",
    "    labs(title = \"ROC Curve\", x = \"False Positive Rate\", y = \"True Positive Rate\") +\n",
    "    theme_minimal()\n",
    "}\n",
    "\n",
    "# Plots precision-recall curve\n",
    "plot_pr_gg <- function(event, risk) {\n",
    "  pr <- pr.curve(scores.class0 = risk[event == 1], scores.class1 = risk[event == 0], curve = TRUE)\n",
    "  df <- data.frame(Recall = pr$curve[, 1], Precision = pr$curve[, 2])\n",
    "  aucpr <- round(pr$auc.integral, 2)\n",
    "\n",
    "  ggplot(df, aes(x = Recall, y = Precision)) +\n",
    "    geom_line(color = \"darkgreen\", size = 1.2) +\n",
    "    annotate(\"text\", x = 0.6, y = 0.4, label = paste(\"AUC-PR =\", aucpr), size = 5, color = \"red\") +\n",
    "    labs(title = \"Precision-Recall Curve\", x = \"Recall\", y = \"Precision\") +\n",
    "    theme_minimal()\n",
    "}\n",
    "\n",
    "# Plots Kaplan-Meier survival curve\n",
    "plot_km_gg <- function(df, group, ylim = c(0.915, 1.00)) {\n",
    "  surv_obj <- Surv(time = df$time, event = df$event)\n",
    "  fit <- survfit(surv_obj ~ group, data = df)\n",
    "\n",
    "  g <- ggsurvplot(\n",
    "    fit,\n",
    "    data = df,\n",
    "    risk.table = TRUE,\n",
    "    pval = TRUE,\n",
    "    conf.int = TRUE,\n",
    "    xlab = \"Months to Event\",\n",
    "    ylab = \"Survival Probability\",\n",
    "    ylim = ylim,\n",
    "    ggtheme = theme_minimal()\n",
    "  )\n",
    "\n",
    "  return(g$plot)\n",
    "}\n"
   ]
  },
  {
   "cell_type": "code",
   "execution_count": 36,
   "metadata": {},
   "outputs": [
    {
     "name": "stdout",
     "output_type": "stream",
     "text": [
      "[1] \"Dataset Controls 34120\" \"Dataset Cases 63\"      \n",
      "[1] \"Training Controls 27298\" \"Training Cases 49\"      \n",
      "[1] \"Validation Controls 6822\" \"Validation Cases 14\"     \n",
      "\n",
      "Multivariate results saved to ./../results/multivariate_analysis_1_cgc.csv \n"
     ]
    }
   ],
   "source": [
    "%%R \n",
    "\n",
    "# Partition data\n",
    "splits <- partition_data(r_df_normal, selected_vars, p=0.8)\n",
    "train_set <- splits$train_set\n",
    "validation_set <- splits$validation_set\n",
    "\n",
    "# Train model\n",
    "cox_model <- train_model(train_set, selected_vars, model_func=coxph)\n",
    "\n",
    "# Saves hazard ratio from multivariate analysis into file\n",
    "variable_labels = c(\n",
    "    hgball_baseline_imputed_mean = \"Hemoglobin\", \n",
    "    sex_missing = \"Sex\", \n",
    "    race_clean = \"Race\", \n",
    "    ethnicity = \"Ethnicity\", \n",
    "    alcohol_binary = \"Alcohol\", \n",
    "    pud = \"Peptic ulcer disease\",\n",
    "    gerd = \"GERD\",\n",
    "    cad = \"Coronary artery disease\", \n",
    "    barretts = \"Barretts esophagus\",\n",
    "    famhx_cancer = \"Family history of cancer\",\n",
    "    famhx_gastricca = \"Family history of gastric cancer\", \n",
    "    famhx_colonca = \"Family history of colon cancer\",\n",
    "    ASA = \"Aspirin use\",\n",
    "    PPI = \"Proton pump inhibitor use\"\n",
    ")\n",
    "multivariate_df <- save_multivariate_results(cox_model, multivariate_filename, variable_labels)\n"
   ]
  },
  {
   "cell_type": "code",
   "execution_count": 37,
   "metadata": {},
   "outputs": [
    {
     "name": "stdout",
     "output_type": "stream",
     "text": [
      "\n",
      "Sensitivity and Metrics at 70% Specificity"
     ]
    },
    {
     "name": "stderr",
     "output_type": "stream",
     "text": [
      "R[write to console]: Setting levels: control = 0, case = 1\n",
      "\n",
      "R[write to console]: Setting direction: controls < cases\n",
      "\n"
     ]
    },
    {
     "name": "stdout",
     "output_type": "stream",
     "text": [
      "C-statistic (AUROC): 0.729 \n",
      "Sensitivity: 0.4545455 \n",
      "Specificity: 0.6939194 \n",
      "PPV: 0.002387775 \n",
      "NPV: 0.9987347 \n",
      "NNS: 890.88 \n",
      "     predicted_class\n",
      "event    0    1\n",
      "    0 4736 2089\n",
      "    1    6    5\n"
     ]
    }
   ],
   "source": [
    "%%R \n",
    "# TODO Manually edit me\n",
    "\n",
    "# Estimate risk\n",
    "risk_result <- calculate_risk(cox_model, validation_set)\n",
    "risk_5_years <- risk_result$risk\n",
    "event_5_years <- risk_result$event\n",
    "\n",
    "r_df_validation_risk <- data.frame(\n",
    "    time = validation_set$months_to_event,\n",
    "    event = validation_set$ugica_CGC,\n",
    "    pred_risk = risk_5_years,\n",
    "    actual_event = event_5_years\n",
    ")\n",
    "\n",
    "# Set risk threshold to calculate sensitivity and specificity\n",
    "percentile = 70\n",
    "cat(\"\\nSensitivity and Metrics at 70% Specificity\")\n",
    "threshold <- quantile(risk_5_years, probs = percentile / 100)\n",
    "calculate_cm_by_percentile(risk_5_years, event_5_years, threshold)"
   ]
  },
  {
   "cell_type": "code",
   "execution_count": 38,
   "metadata": {},
   "outputs": [
    {
     "name": "stderr",
     "output_type": "stream",
     "text": [
      "R[write to console]: Setting levels: control = 0, case = 1\n",
      "\n",
      "R[write to console]: Setting direction: controls < cases\n",
      "\n"
     ]
    },
    {
     "name": "stdout",
     "output_type": "stream",
     "text": [
      "\n",
      "Sensitivity and Metrics at Threshold set by Youden index"
     ]
    },
    {
     "name": "stderr",
     "output_type": "stream",
     "text": [
      "R[write to console]: Setting levels: control = 0, case = 1\n",
      "\n",
      "R[write to console]: Setting direction: controls < cases\n",
      "\n"
     ]
    },
    {
     "name": "stdout",
     "output_type": "stream",
     "text": [
      "C-statistic (AUROC): 0.729 \n",
      "Sensitivity: 1 \n",
      "Specificity: 0.480293 \n",
      "PPV: 0.003091625 \n",
      "NPV: 1 \n",
      "NNS: 323.4545 \n",
      "     predicted_class\n",
      "event    0    1\n",
      "    0 3278 3547\n",
      "    1    0   11\n"
     ]
    }
   ],
   "source": [
    "%%R\n",
    "# Find the threshold that maximizes Youden's J (sensitivity + specificity - 1)\n",
    "roc_obj <- roc(response = event_5_years, predictor = risk_5_years)\n",
    "optimal_threshold <- coords(\n",
    "  roc_obj,\n",
    "  x = \"best\",\n",
    "  best.method = \"youden\",\n",
    "  transpose = FALSE\n",
    ")$threshold\n",
    "\n",
    "cat(\"\\nSensitivity and Metrics at Threshold set by Youden index\")\n",
    "calculate_cm_by_percentile(risk_5_years, event_5_years, optimal_threshold)"
   ]
  },
  {
   "cell_type": "code",
   "execution_count": 39,
   "metadata": {},
   "outputs": [
    {
     "name": "stderr",
     "output_type": "stream",
     "text": [
      "R[write to console]: Setting levels: control = 0, case = 1\n",
      "\n",
      "R[write to console]: Setting direction: controls < cases\n",
      "\n"
     ]
    },
    {
     "data": {
      "image/png": "[encoded data removed]",
      "text/plain": [
       "<IPython.core.display.Image object>"
      ]
     },
     "metadata": {},
     "output_type": "display_data"
    }
   ],
   "source": [
    "%%R \n",
    "# Generate all plots\n",
    "p1 <- plot_roc_gg(event_5_years, risk_5_years)\n",
    "p2 <- plot_pr_gg(event_5_years, risk_5_years)\n",
    "\n",
    "# Show all plots in a grid (KM comes with table, so best shown separately)\n",
    "grid.arrange(p1, p2, nrow=1)  # ROC and PR side-by-side"
   ]
  },
  {
   "cell_type": "code",
   "execution_count": 40,
   "metadata": {},
   "outputs": [
    {
     "name": "stdout",
     "output_type": "stream",
     "text": [
      "actual_event\n",
      "0.0    6825\n",
      "1.0      11\n",
      "Name: count, dtype: int64\n"
     ]
    },
    {
     "data": {
      "text/html": [
       "<div>\n",
       "<style scoped>\n",
       "    .dataframe tbody tr th:only-of-type {\n",
       "        vertical-align: middle;\n",
       "    }\n",
       "\n",
       "    .dataframe tbody tr th {\n",
       "        vertical-align: top;\n",
       "    }\n",
       "\n",
       "    .dataframe thead th {\n",
       "        text-align: right;\n",
       "    }\n",
       "</style>\n",
       "<table border=\"1\" class=\"dataframe\">\n",
       "  <thead>\n",
       "    <tr style=\"text-align: right;\">\n",
       "      <th>high_risk_youden</th>\n",
       "      <th>0</th>\n",
       "      <th>1</th>\n",
       "    </tr>\n",
       "    <tr>\n",
       "      <th>actual_event</th>\n",
       "      <th></th>\n",
       "      <th></th>\n",
       "    </tr>\n",
       "  </thead>\n",
       "  <tbody>\n",
       "    <tr>\n",
       "      <th>0.0</th>\n",
       "      <td>3278</td>\n",
       "      <td>3547</td>\n",
       "    </tr>\n",
       "    <tr>\n",
       "      <th>1.0</th>\n",
       "      <td>0</td>\n",
       "      <td>11</td>\n",
       "    </tr>\n",
       "  </tbody>\n",
       "</table>\n",
       "</div>"
      ],
      "text/plain": [
       "high_risk_youden     0     1\n",
       "actual_event                \n",
       "0.0               3278  3547\n",
       "1.0                  0    11"
      ]
     },
     "execution_count": 40,
     "metadata": {},
     "output_type": "execute_result"
    }
   ],
   "source": [
    "r_df_validation_risk = r['r_df_validation_risk']  \n",
    "df_validation_risk = pandas2ri.rpy2py(r_df_validation_risk)\n",
    "\n",
    "optimal_threshold = r['optimal_threshold'][0]\n",
    "\n",
    "print(df_validation_risk.actual_event.value_counts()) # Cases differ from ugica because the event needs to occur within the time frame of 5 years\n",
    "df_validation_risk['high_risk_youden'] = np.where(df_validation_risk.pred_risk >= optimal_threshold, 1, 0)\n",
    "pd.crosstab(df_validation_risk.actual_event, df_validation_risk.high_risk_youden)\n"
   ]
  },
  {
   "cell_type": "code",
   "execution_count": 41,
   "metadata": {},
   "outputs": [
    {
     "data": {
      "text/html": [
       "<div>\n",
       "<style scoped>\n",
       "    .dataframe tbody tr th:only-of-type {\n",
       "        vertical-align: middle;\n",
       "    }\n",
       "\n",
       "    .dataframe tbody tr th {\n",
       "        vertical-align: top;\n",
       "    }\n",
       "\n",
       "    .dataframe thead th {\n",
       "        text-align: right;\n",
       "    }\n",
       "</style>\n",
       "<table border=\"1\" class=\"dataframe\">\n",
       "  <thead>\n",
       "    <tr style=\"text-align: right;\">\n",
       "      <th></th>\n",
       "      <th>time</th>\n",
       "      <th>event</th>\n",
       "      <th>pred_risk</th>\n",
       "      <th>actual_event</th>\n",
       "      <th>high_risk_youden</th>\n",
       "    </tr>\n",
       "  </thead>\n",
       "  <tbody>\n",
       "    <tr>\n",
       "      <th>6</th>\n",
       "      <td>59.071869</td>\n",
       "      <td>0</td>\n",
       "      <td>0.001354</td>\n",
       "      <td>0.0</td>\n",
       "      <td>1</td>\n",
       "    </tr>\n",
       "    <tr>\n",
       "      <th>12</th>\n",
       "      <td>4.993840</td>\n",
       "      <td>0</td>\n",
       "      <td>0.000374</td>\n",
       "      <td>0.0</td>\n",
       "      <td>0</td>\n",
       "    </tr>\n",
       "    <tr>\n",
       "      <th>14</th>\n",
       "      <td>66.726899</td>\n",
       "      <td>0</td>\n",
       "      <td>0.001962</td>\n",
       "      <td>0.0</td>\n",
       "      <td>1</td>\n",
       "    </tr>\n",
       "    <tr>\n",
       "      <th>23</th>\n",
       "      <td>157.043121</td>\n",
       "      <td>0</td>\n",
       "      <td>0.000215</td>\n",
       "      <td>0.0</td>\n",
       "      <td>0</td>\n",
       "    </tr>\n",
       "    <tr>\n",
       "      <th>25</th>\n",
       "      <td>0.164271</td>\n",
       "      <td>0</td>\n",
       "      <td>0.006241</td>\n",
       "      <td>0.0</td>\n",
       "      <td>1</td>\n",
       "    </tr>\n",
       "  </tbody>\n",
       "</table>\n",
       "</div>"
      ],
      "text/plain": [
       "          time  event  pred_risk  actual_event  high_risk_youden\n",
       "6    59.071869      0   0.001354           0.0                 1\n",
       "12    4.993840      0   0.000374           0.0                 0\n",
       "14   66.726899      0   0.001962           0.0                 1\n",
       "23  157.043121      0   0.000215           0.0                 0\n",
       "25    0.164271      0   0.006241           0.0                 1"
      ]
     },
     "execution_count": 41,
     "metadata": {},
     "output_type": "execute_result"
    }
   ],
   "source": [
    "# Pass dataframe to R to analyze\n",
    "pass_df(df_validation_risk, 'r_df_validation_risk')\n",
    "df_validation_risk.head()"
   ]
  },
  {
   "cell_type": "code",
   "execution_count": 42,
   "metadata": {},
   "outputs": [
    {
     "data": {
      "image/png": "[encoded data removed]",
      "text/plain": [
       "<IPython.core.display.Image object>"
      ]
     },
     "metadata": {},
     "output_type": "display_data"
    }
   ],
   "source": [
    "%%R \n",
    "surv_obj <- Surv(time = r_df_validation_risk$time, event = r_df_validation_risk$event)\n",
    "fit <- survfit(surv_obj ~ high_risk_youden, data = r_df_validation_risk)\n",
    "\n",
    "g <- ggsurvplot(\n",
    "    fit,\n",
    "    data = r_df_validation_risk,\n",
    "    risk.table = TRUE,\n",
    "    pval = TRUE,\n",
    "    pval.coord = c(20, 0.975),\n",
    "    conf.int = TRUE,\n",
    "    xlab = \"Months to Event\",\n",
    "    ylab = \"Survival Probability\",\n",
    "    ylim = c(0.970, 1),\n",
    "    ggtheme = theme_minimal()\n",
    ")\n",
    "\n",
    "g$plot"
   ]
  },
  {
   "cell_type": "markdown",
   "metadata": {},
   "source": [
    "### Save model and threshold"
   ]
  },
  {
   "cell_type": "code",
   "execution_count": 43,
   "metadata": {},
   "outputs": [],
   "source": [
    "%%R \n",
    "# Save model\n",
    "saveRDS(cox_model, \"coxph_cgc.rds\")"
   ]
  },
  {
   "cell_type": "code",
   "execution_count": 44,
   "metadata": {},
   "outputs": [],
   "source": [
    "# Save optimal threshold \n",
    "import json\n",
    "import os\n",
    "\n",
    "def save_to_json(variable, filename, key=None):\n",
    "    # If the file exists, load existing data\n",
    "    if os.path.exists(filename):\n",
    "        with open(filename, 'r') as f:\n",
    "            try:\n",
    "                data = json.load(f)\n",
    "            except json.JSONDecodeError:\n",
    "                data = {}\n",
    "    else:\n",
    "        data = {}\n",
    "\n",
    "    # Append or update data\n",
    "    if key in data:\n",
    "        data[key].update(variable)\n",
    "    else: \n",
    "        data[key] = variable\n",
    "\n",
    "    # Save the updated data\n",
    "    with open(filename, 'w') as f:\n",
    "        json.dump(data, f, indent=4)\n",
    "\n",
    "    print(f\"Saved to {filename}\")\n"
   ]
  },
  {
   "cell_type": "code",
   "execution_count": 45,
   "metadata": {},
   "outputs": [
    {
     "name": "stdout",
     "output_type": "stream",
     "text": [
      "Saved to thresholds.json\n"
     ]
    }
   ],
   "source": [
    "model = 'coxph'\n",
    "subtype = 'cgc'\n",
    "selected_vars = list(r['selected_vars'])  \n",
    "\n",
    "model_variables = {\n",
    "    subtype: {\n",
    "        \"threshold\": optimal_threshold,\n",
    "        \"variables\": selected_vars\n",
    "    }\n",
    "}\n",
    "\n",
    "# Save\n",
    "save_to_json(model_variables, \"thresholds.json\", key=model)"
   ]
  }
 ],
 "metadata": {
  "kernelspec": {
   "display_name": "rpy2_env",
   "language": "python",
   "name": "python3"
  },
  "language_info": {
   "codemirror_mode": {
    "name": "ipython",
    "version": 3
   },
   "file_extension": ".py",
   "mimetype": "text/x-python",
   "name": "python",
   "nbconvert_exporter": "python",
   "pygments_lexer": "ipython3",
   "version": "3.10.13"
  }
 },
 "nbformat": 4,
 "nbformat_minor": 2
}
