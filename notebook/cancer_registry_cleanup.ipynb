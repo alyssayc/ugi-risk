{
 "cells": [
  {
   "cell_type": "markdown",
   "metadata": {},
   "source": [
    "### 0. Import libraries and import data"
   ]
  },
  {
   "cell_type": "code",
   "execution_count": 1,
   "metadata": {},
   "outputs": [],
   "source": [
    "import pandas as pd\n",
    "import numpy as np\n",
    "import seaborn as sns\n",
    "import matplotlib.pyplot as plt\n",
    "from pathlib import Path\n",
    "\n",
    "\n",
    "# Add the directory to sys.path\n",
    "import sys\n",
    "module_path = Path('./../code')\n",
    "sys.path.append(str(module_path))\n",
    "import utils"
   ]
  },
  {
   "cell_type": "markdown",
   "metadata": {},
   "source": [
    "### 1. Clean the cancer registry data"
   ]
  },
  {
   "cell_type": "code",
   "execution_count": 2,
   "metadata": {},
   "outputs": [],
   "source": [
    "# Define directory path variable\n",
    "directory = Path('./../data/')\n",
    "\n",
    "# Define file name variable\n",
    "filename = 'ugicancer_registry.xlsx'\n",
    "export_filename = 'ugicancer_registry_clean.csv'\n",
    "\n",
    "# Rename the columns\n",
    "rename_cols = {\n",
    "    'MEDRECNO': 'mrn',\n",
    "    'Date of Diagnosis': 'date_dx',\n",
    "    'Date of Contact': 'date_contact', \n",
    "    'LNAME': 'name_last', \n",
    "    'FNAME': 'name_first',\n",
    "    'date of birth': 'dob', \n",
    "    'Tumor Site': 'tumor_site', # Based on ICD 03 codes\n",
    "    'Histology': 'histology', # Based on ICD 03 codes\n",
    "    'PRIMARY_TUMOR_SITE': 'primary_tumor_site',\n",
    "    'BEHAVIOR': 'behavior'\n",
    "}"
   ]
  },
  {
   "cell_type": "code",
   "execution_count": 3,
   "metadata": {},
   "outputs": [],
   "source": [
    "# Read the Excel file into a pandas dataframe\n",
    "file_path = directory / filename\n",
    "df = pd.read_excel(file_path)\n",
    "df.rename(columns=rename_cols, inplace=True)"
   ]
  },
  {
   "cell_type": "code",
   "execution_count": 4,
   "metadata": {},
   "outputs": [
    {
     "name": "stderr",
     "output_type": "stream",
     "text": [
      "/var/folders/2m/nz3ptmfs6c586nfvk00y2dsc0000gp/T/ipykernel_82886/1968360442.py:3: FutureWarning: DataFrame.applymap has been deprecated. Use DataFrame.map instead.\n",
      "  df[text_columns] = df[text_columns].applymap(lambda x: x.lower() if isinstance(x, str) else x)\n"
     ]
    }
   ],
   "source": [
    "# Convert text columns to lowercase\n",
    "text_columns = df.select_dtypes(include=['object']).columns \n",
    "df[text_columns] = df[text_columns].applymap(lambda x: x.lower() if isinstance(x, str) else x)"
   ]
  },
  {
   "cell_type": "code",
   "execution_count": 5,
   "metadata": {},
   "outputs": [
    {
     "data": {
      "text/plain": [
       "primary_tumor_site\n",
       "stomach            1597\n",
       "small intestine     671\n",
       "esophagus           476\n",
       "Name: count, dtype: int64"
      ]
     },
     "execution_count": 5,
     "metadata": {},
     "output_type": "execute_result"
    }
   ],
   "source": [
    "df.primary_tumor_site.value_counts()"
   ]
  },
  {
   "cell_type": "code",
   "execution_count": 6,
   "metadata": {},
   "outputs": [],
   "source": [
    "# Convert date columns from integers to datetime\n",
    "df['datetime_contact'] = pd.to_datetime(df['date_contact'].astype(int), format='%Y%m%d')\n",
    "df['datetime_dob'] = pd.to_datetime(df['dob'].astype(int), format='%Y%m%d')"
   ]
  },
  {
   "cell_type": "markdown",
   "metadata": {},
   "source": [
    "#### Clean up the dates of cancer diagnosis because they are not in consistent formats. \n",
    "1. Create a new datetime column for diagnosis and automatically set default date as Jan 1st if month/date not provided. \n",
    "2. Create a boolean column to indicate when we set default date. \n",
    "\n",
    "Eventually, we will want to correlate with MRNs to see if these patients have encounters in our system at least 6 months before the date of diagnosis. Perhaps these patients were all diagnosed outside of sinai. \n",
    "\n",
    "This is one of the reasons for excluding patients with UGI diagnosis within 6 months after the first encounter. "
   ]
  },
  {
   "cell_type": "code",
   "execution_count": 7,
   "metadata": {},
   "outputs": [
    {
     "name": "stdout",
     "output_type": "stream",
     "text": [
      "Bucket Table:\n",
      "     bucket  count\n",
      "0      yyyy     87\n",
      "1  yyyymmdd   2654\n"
     ]
    },
    {
     "data": {
      "image/png": "[encoded data removed]",
      "text/plain": [
       "<Figure size 640x480 with 1 Axes>"
      ]
     },
     "metadata": {},
     "output_type": "display_data"
    }
   ],
   "source": [
    "# Generate a barplot to show the distribution and counts of year-only and year-mon-day values in the dataset\n",
    "utils.generate_bucket_barplot(df['date_dx'], [1000, 3000, 30000000], ['yyyy', 'yyyymmdd'])"
   ]
  },
  {
   "cell_type": "code",
   "execution_count": 8,
   "metadata": {
    "scrolled": true
   },
   "outputs": [],
   "source": [
    "# Create a new datetime column for diagnosis and automatically set default date as Jan 1st if month/date not provided. \n",
    "df['datetime_dx'] = df['date_dx'].apply(utils.convert_date_dx)\n",
    "\n",
    "# Create a column to indicate when we set default date.  \n",
    "df['datetime_dx_real'] = np.where(df['date_dx'] > 300000, 1, 0)"
   ]
  },
  {
   "cell_type": "markdown",
   "metadata": {},
   "source": [
    "### Determine UGI cancer subtypes based on tumor site and histology ICD codes"
   ]
  },
  {
   "cell_type": "code",
   "execution_count": 9,
   "metadata": {},
   "outputs": [
    {
     "data": {
      "text/plain": [
       "\" Define the ICD-10 codes and their descriptions\\n{\\n    # Esophagus \\n    'C150': 'Malignant neoplasm: Cervical part of oesophagus', \\n    'C151': 'Malignant neoplasm: Thoracic part of oesophagus', \\n    'C152': 'Malignant neoplasm: Abdominal part of oesophagus', \\n    'C153': 'Malignant neoplasm: Upper third of oesophagus', \\n    'C154': 'Malignant neoplasm: Middle third of oesophagus', \\n    'C155': 'Malignant neoplasm: Lower third of oesophagus', \\n    'C158': 'Malignant neoplasm: Overlapping lesion of oesophagus', \\n    'C159': 'Malignant neoplasm: Oesophagus, unspecified', \\n    # Stomach \\n    'C160': 'Malignant neoplasm: Cardia', \\n    'C161': 'Malignant neoplasm: Fundus of stomach', \\n    'C162': 'Malignant neoplasm: Body of stomach', \\n    'C163': 'Malignant neoplasm: Pyloric antrum', \\n    'C164': 'Malignant neoplasm: Pylorus', \\n    'C165': 'Malignant neoplasm: Lesser curvature of stomach, unspecified', \\n    'C166': 'Malignant neoplasm: Greater curvature of stomach, unspecified', \\n    'C168': 'Malignant neoplasm: Overlapping lesion of stomach', \\n    'C169': 'Malignant neoplasm: Stomach, unspecified', \\n    # Small intestine \\n    'C170': 'Malignant neoplasm: Duodenum', \\n    'C171': 'Malignant neoplasm: Jejunum', \\n    'C172': 'Malignant neoplasm: Ileum', \\n    'C173': 'Malignant neoplasm: Meckel diverticulum', \\n    'C178': 'Malignant neoplasm: Overlapping lesion of small intestine', \\n    'C179': 'Malignant neoplasm: Small intestine, unspecified'\\n} \""
      ]
     },
     "execution_count": 9,
     "metadata": {},
     "output_type": "execute_result"
    }
   ],
   "source": [
    "\"\"\" Define the ICD-10 codes and their descriptions\n",
    "{\n",
    "    # Esophagus \n",
    "    'C150': 'Malignant neoplasm: Cervical part of oesophagus', \n",
    "    'C151': 'Malignant neoplasm: Thoracic part of oesophagus', \n",
    "    'C152': 'Malignant neoplasm: Abdominal part of oesophagus', \n",
    "    'C153': 'Malignant neoplasm: Upper third of oesophagus', \n",
    "    'C154': 'Malignant neoplasm: Middle third of oesophagus', \n",
    "    'C155': 'Malignant neoplasm: Lower third of oesophagus', \n",
    "    'C158': 'Malignant neoplasm: Overlapping lesion of oesophagus', \n",
    "    'C159': 'Malignant neoplasm: Oesophagus, unspecified', \n",
    "    # Stomach \n",
    "    'C160': 'Malignant neoplasm: Cardia', \n",
    "    'C161': 'Malignant neoplasm: Fundus of stomach', \n",
    "    'C162': 'Malignant neoplasm: Body of stomach', \n",
    "    'C163': 'Malignant neoplasm: Pyloric antrum', \n",
    "    'C164': 'Malignant neoplasm: Pylorus', \n",
    "    'C165': 'Malignant neoplasm: Lesser curvature of stomach, unspecified', \n",
    "    'C166': 'Malignant neoplasm: Greater curvature of stomach, unspecified', \n",
    "    'C168': 'Malignant neoplasm: Overlapping lesion of stomach', \n",
    "    'C169': 'Malignant neoplasm: Stomach, unspecified', \n",
    "    # Small intestine \n",
    "    'C170': 'Malignant neoplasm: Duodenum', \n",
    "    'C171': 'Malignant neoplasm: Jejunum', \n",
    "    'C172': 'Malignant neoplasm: Ileum', \n",
    "    'C173': 'Malignant neoplasm: Meckel diverticulum', \n",
    "    'C178': 'Malignant neoplasm: Overlapping lesion of small intestine', \n",
    "    'C179': 'Malignant neoplasm: Small intestine, unspecified'\n",
    "} \"\"\""
   ]
  },
  {
   "cell_type": "code",
   "execution_count": 10,
   "metadata": {},
   "outputs": [],
   "source": [
    "# Creates a second column that checks tumor site ICD code to classify stomach into cardia, noncardia vs unspecified\n",
    "df['primary_tumor_site_2'] = df.apply(utils.get_tumorsite_stomach, axis=1)\n",
    "# Creates a third column that checks histology ICD codes to classify into primary EAC, ESCC, CGC and NCGC\n",
    "df['subtype'] = df.apply(utils.get_cancer_subtype, axis=1)"
   ]
  },
  {
   "cell_type": "code",
   "execution_count": 11,
   "metadata": {},
   "outputs": [
    {
     "name": "stdout",
     "output_type": "stream",
     "text": [
      "subtype\n",
      "NCGC    614\n",
      "ESCC    237\n",
      "CGC     224\n",
      "EAC     197\n",
      "Name: count, dtype: int64\n"
     ]
    },
    {
     "data": {
      "text/plain": [
       "subtype\n",
       "small intestine         671\n",
       "stomach, unspecified    476\n",
       "stomach, noncardia      240\n",
       "stomach, cardia          43\n",
       "esophagus                42\n",
       "Name: count, dtype: int64"
      ]
     },
     "execution_count": 11,
     "metadata": {},
     "output_type": "execute_result"
    }
   ],
   "source": [
    "# There remain some unclassified subtypes that did not fit\n",
    "# Export these counts into a .txt file and .csv file to investigate to make sure we are not missing any histology ICD codes \n",
    "df_notclassified = df[['subtype', 'tumor_site', 'histology']]\n",
    "print(df_notclassified[df_notclassified.subtype.isin(['NCGC', 'ESCC', 'CGC', 'EAC'])].subtype.value_counts())\n",
    "df_notclassified[~df_notclassified.subtype.isin(['NCGC', 'ESCC', 'CGC', 'EAC'])].subtype.value_counts()"
   ]
  },
  {
   "cell_type": "code",
   "execution_count": 12,
   "metadata": {},
   "outputs": [],
   "source": [
    "df_notclassified = df[~df.subtype.isin(['NCGC', 'CGC', 'EAC', 'ESCC'])].sort_values(by=['subtype', 'tumor_site', 'histology'])[['subtype', 'tumor_site', 'histology']].drop_duplicates()\n",
    "df_notclassified.to_csv(directory / 'ugicancer_registry_notclassified.csv')"
   ]
  },
  {
   "cell_type": "code",
   "execution_count": null,
   "metadata": {},
   "outputs": [],
   "source": [
    "# One hot encoding for the subtypes\n",
    "df['ugica_ESCC'] = np.where(df.subtype == 'ESCC', 1, 0)\n",
    "df['ugica_EAC'] = np.where(df.subtype == 'EAC', 1, 0)\n",
    "df['ugica_CGC'] = np.where(df.subtype == 'CGC', 1, 0)\n",
    "df['ugica_NCGC'] = np.where(df.subtype == 'NCGC', 1, 0)"
   ]
  },
  {
   "cell_type": "markdown",
   "metadata": {},
   "source": [
    "### Export the dataset"
   ]
  },
  {
   "cell_type": "code",
   "execution_count": 14,
   "metadata": {},
   "outputs": [
    {
     "name": "stdout",
     "output_type": "stream",
     "text": [
      "1976-01-01 00:00:00 2023-09-07 00:00:00\n"
     ]
    }
   ],
   "source": [
    "columns_of_interest = ['mrn',\n",
    "       'datetime_contact', 'datetime_dob', 'datetime_dx', 'datetime_dx_real', \n",
    "       'primary_tumor_site', 'primary_tumor_site_2', 'histology', 'subtype', \n",
    "       'ugica_ESCC', 'ugica_EAC', 'ugica_CGC', 'ugica_NCGC']\n",
    "final_df = df[columns_of_interest]\n",
    "print(final_df.datetime_dx.min(), final_df.datetime_dx.max())"
   ]
  },
  {
   "cell_type": "code",
   "execution_count": null,
   "metadata": {},
   "outputs": [
    {
     "data": {
      "text/html": [
       "<div>\n",
       "<style scoped>\n",
       "    .dataframe tbody tr th:only-of-type {\n",
       "        vertical-align: middle;\n",
       "    }\n",
       "\n",
       "    .dataframe tbody tr th {\n",
       "        vertical-align: top;\n",
       "    }\n",
       "\n",
       "    .dataframe thead th {\n",
       "        text-align: right;\n",
       "    }\n",
       "</style>\n",
       "<table border=\"1\" class=\"dataframe\">\n",
       "  <thead>\n",
       "    <tr style=\"text-align: right;\">\n",
       "      <th></th>\n",
       "      <th>mrn</th>\n",
       "      <th>datetime_contact</th>\n",
       "      <th>datetime_dob</th>\n",
       "      <th>datetime_dx</th>\n",
       "      <th>datetime_dx_real</th>\n",
       "      <th>primary_tumor_site</th>\n",
       "      <th>primary_tumor_site_2</th>\n",
       "      <th>histology</th>\n",
       "      <th>subtype</th>\n",
       "      <th>ugica_ESCC</th>\n",
       "      <th>ugica_EAC</th>\n",
       "      <th>ugica_CGC</th>\n",
       "      <th>ugica_NCGC</th>\n",
       "    </tr>\n",
       "  </thead>\n",
       "  <tbody>\n",
       "    <tr>\n",
       "      <th>0</th>\n",
       "      <td>38814</td>\n",
       "      <td>2022-06-29</td>\n",
       "      <td>1942-12-07</td>\n",
       "      <td>2022-06-29</td>\n",
       "      <td>1</td>\n",
       "      <td>small intestine</td>\n",
       "      <td>small intestine</td>\n",
       "      <td>8140</td>\n",
       "      <td>small intestine</td>\n",
       "      <td>0</td>\n",
       "      <td>0</td>\n",
       "      <td>0</td>\n",
       "      <td>0</td>\n",
       "    </tr>\n",
       "    <tr>\n",
       "      <th>1</th>\n",
       "      <td>106779</td>\n",
       "      <td>2022-06-08</td>\n",
       "      <td>1968-10-09</td>\n",
       "      <td>2022-06-08</td>\n",
       "      <td>1</td>\n",
       "      <td>stomach</td>\n",
       "      <td>stomach, noncardia</td>\n",
       "      <td>8140</td>\n",
       "      <td>NCGC</td>\n",
       "      <td>0</td>\n",
       "      <td>0</td>\n",
       "      <td>0</td>\n",
       "      <td>1</td>\n",
       "    </tr>\n",
       "    <tr>\n",
       "      <th>2</th>\n",
       "      <td>108594</td>\n",
       "      <td>2016-08-11</td>\n",
       "      <td>1946-02-09</td>\n",
       "      <td>2016-08-11</td>\n",
       "      <td>1</td>\n",
       "      <td>stomach</td>\n",
       "      <td>stomach, noncardia</td>\n",
       "      <td>8936</td>\n",
       "      <td>stomach, noncardia</td>\n",
       "      <td>0</td>\n",
       "      <td>0</td>\n",
       "      <td>0</td>\n",
       "      <td>0</td>\n",
       "    </tr>\n",
       "    <tr>\n",
       "      <th>3</th>\n",
       "      <td>118072</td>\n",
       "      <td>2019-01-07</td>\n",
       "      <td>1961-06-20</td>\n",
       "      <td>2019-01-07</td>\n",
       "      <td>1</td>\n",
       "      <td>esophagus</td>\n",
       "      <td>esophagus</td>\n",
       "      <td>8070</td>\n",
       "      <td>ESCC</td>\n",
       "      <td>1</td>\n",
       "      <td>0</td>\n",
       "      <td>0</td>\n",
       "      <td>0</td>\n",
       "    </tr>\n",
       "    <tr>\n",
       "      <th>4</th>\n",
       "      <td>126066</td>\n",
       "      <td>2018-02-01</td>\n",
       "      <td>1971-08-16</td>\n",
       "      <td>2018-01-09</td>\n",
       "      <td>1</td>\n",
       "      <td>stomach</td>\n",
       "      <td>stomach, cardia</td>\n",
       "      <td>8140</td>\n",
       "      <td>CGC</td>\n",
       "      <td>0</td>\n",
       "      <td>0</td>\n",
       "      <td>1</td>\n",
       "      <td>0</td>\n",
       "    </tr>\n",
       "  </tbody>\n",
       "</table>\n",
       "</div>"
      ],
      "text/plain": [
       "      mrn datetime_contact datetime_dob datetime_dx  datetime_dx_real  \\\n",
       "0   38814       2022-06-29   1942-12-07  2022-06-29                 1   \n",
       "1  106779       2022-06-08   1968-10-09  2022-06-08                 1   \n",
       "2  108594       2016-08-11   1946-02-09  2016-08-11                 1   \n",
       "3  118072       2019-01-07   1961-06-20  2019-01-07                 1   \n",
       "4  126066       2018-02-01   1971-08-16  2018-01-09                 1   \n",
       "\n",
       "  primary_tumor_site primary_tumor_site_2  histology             subtype  \\\n",
       "0    small intestine      small intestine       8140     small intestine   \n",
       "1            stomach   stomach, noncardia       8140                NCGC   \n",
       "2            stomach   stomach, noncardia       8936  stomach, noncardia   \n",
       "3          esophagus            esophagus       8070                ESCC   \n",
       "4            stomach      stomach, cardia       8140                 CGC   \n",
       "\n",
       "   ugica_ESCC  ugica_EAC  ugica_CGC  ugica_NCGC  \n",
       "0           0          0          0           0  \n",
       "1           0          0          0           1  \n",
       "2           0          0          0           0  \n",
       "3           1          0          0           0  \n",
       "4           0          0          1           0  "
      ]
     },
     "execution_count": 15,
     "metadata": {},
     "output_type": "execute_result"
    }
   ],
   "source": [
    "final_df.to_csv(directory / export_filename, index=False) # Do not include the row indices as a separate column."
   ]
  }
 ],
 "metadata": {
  "kernelspec": {
   "display_name": "rpy2_env",
   "language": "python",
   "name": "python3"
  },
  "language_info": {
   "codemirror_mode": {
    "name": "ipython",
    "version": 3
   },
   "file_extension": ".py",
   "mimetype": "text/x-python",
   "name": "python",
   "nbconvert_exporter": "python",
   "pygments_lexer": "ipython3",
   "version": "3.10.13"
  }
 },
 "nbformat": 4,
 "nbformat_minor": 2
}
