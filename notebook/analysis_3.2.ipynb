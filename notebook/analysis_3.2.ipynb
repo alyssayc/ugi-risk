{
 "cells": [
  {
   "cell_type": "markdown",
   "metadata": {},
   "source": [
    "# Analysis 3.2\n",
    "- Model: XGBoost\n",
    "- Feature selection: Significant variables based on univariate analysis\n",
    "- Drop patients with missing sex \n",
    "- Predicts 10 year risk for combined UGI cancer\n",
    "- Risk score threshold determined on optimal threshold "
   ]
  },
  {
   "cell_type": "markdown",
   "metadata": {},
   "source": [
    "## Import libraries"
   ]
  },
  {
   "cell_type": "code",
   "execution_count": 1,
   "metadata": {},
   "outputs": [],
   "source": [
    "%load_ext rpy2.ipython \n",
    "# Load the R magic extension"
   ]
  },
  {
   "cell_type": "code",
   "execution_count": 2,
   "metadata": {},
   "outputs": [],
   "source": [
    "import pandas as pd\n",
    "import numpy as np\n",
    "import seaborn as sns\n",
    "import matplotlib.pyplot as plt\n",
    "from pathlib import Path\n",
    "import os\n",
    "from datetime import datetime\n",
    "\n",
    "from scipy.stats import percentileofscore\n",
    "from pathlib import Path\n",
    "from functools import reduce\n",
    "from helpers.utils import generate_risk_percentile_df, classification_metrics\n",
    "\n",
    "from sklearn.feature_selection import SelectFromModel\n",
    "from sklearn.metrics import log_loss, confusion_matrix, roc_auc_score, precision_score, recall_score, accuracy_score\n",
    "import xgboost as xgb\n",
    "import numpy as np\n"
   ]
  },
  {
   "cell_type": "code",
   "execution_count": 3,
   "metadata": {},
   "outputs": [],
   "source": [
    "# Add the directory to sys.path\n",
    "import sys\n",
    "module_path = Path('./../code')\n",
    "sys.path.append(str(module_path))\n",
    "import utils"
   ]
  },
  {
   "cell_type": "code",
   "execution_count": 4,
   "metadata": {},
   "outputs": [],
   "source": [
    "# Import libraries to allow data to be passed between Python and R env\n",
    "import rpy2.robjects as ro\n",
    "from rpy2.robjects import pandas2ri\n",
    "from rpy2.robjects import r\n",
    "\n",
    "pandas2ri.activate()"
   ]
  },
  {
   "cell_type": "code",
   "execution_count": 5,
   "metadata": {},
   "outputs": [
    {
     "name": "stderr",
     "output_type": "stream",
     "text": [
      "R[write to console]: Loading required package: splines\n",
      "\n",
      "R[write to console]: Loading required package: survival\n",
      "\n",
      "R[write to console]: Loading required package: Epi\n",
      "\n",
      "R[write to console]: \n",
      "Attaching package: ‘dplyr’\n",
      "\n",
      "\n",
      "R[write to console]: The following objects are masked from ‘package:stats’:\n",
      "\n",
      "    filter, lag\n",
      "\n",
      "\n",
      "R[write to console]: The following objects are masked from ‘package:base’:\n",
      "\n",
      "    intersect, setdiff, setequal, union\n",
      "\n",
      "\n",
      "R[write to console]: \n",
      "Attaching package: ‘magrittr’\n",
      "\n",
      "\n",
      "R[write to console]: The following object is masked from ‘package:tidyr’:\n",
      "\n",
      "    extract\n",
      "\n",
      "\n",
      "R[write to console]: Type 'citation(\"pROC\")' for a citation.\n",
      "\n",
      "R[write to console]: \n",
      "Attaching package: ‘pROC’\n",
      "\n",
      "\n",
      "R[write to console]: The following objects are masked from ‘package:stats’:\n",
      "\n",
      "    cov, smooth, var\n",
      "\n",
      "\n",
      "R[write to console]: Loading required package: rlang\n",
      "\n",
      "R[write to console]: \n",
      "Attaching package: ‘rlang’\n",
      "\n",
      "\n",
      "R[write to console]: The following object is masked from ‘package:magrittr’:\n",
      "\n",
      "    set_names\n",
      "\n",
      "\n",
      "R[write to console]: Loading required package: ggplot2\n",
      "\n",
      "R[write to console]: Want to understand how all the pieces fit together? Read R for Data\n",
      "Science: https://r4ds.hadley.nz/\n",
      "\n",
      "R[write to console]: Loading required package: lattice\n",
      "\n",
      "R[write to console]: \n",
      "Attaching package: ‘caret’\n",
      "\n",
      "\n",
      "R[write to console]: The following object is masked from ‘package:survival’:\n",
      "\n",
      "    cluster\n",
      "\n",
      "\n",
      "R[write to console]: Loading required package: ggpubr\n",
      "\n",
      "R[write to console]: \n",
      "Attaching package: ‘survminer’\n",
      "\n",
      "\n",
      "R[write to console]: The following object is masked from ‘package:survival’:\n",
      "\n",
      "    myeloma\n",
      "\n",
      "\n",
      "R[write to console]: \n",
      "Attaching package: ‘purrr’\n",
      "\n",
      "\n",
      "R[write to console]: The following object is masked from ‘package:scales’:\n",
      "\n",
      "    discard\n",
      "\n",
      "\n",
      "R[write to console]: The following object is masked from ‘package:caret’:\n",
      "\n",
      "    lift\n",
      "\n",
      "\n",
      "R[write to console]: The following objects are masked from ‘package:rlang’:\n",
      "\n",
      "    %@%, flatten, flatten_chr, flatten_dbl, flatten_int, flatten_lgl,\n",
      "    flatten_raw, invoke, splice\n",
      "\n",
      "\n",
      "R[write to console]: The following object is masked from ‘package:magrittr’:\n",
      "\n",
      "    set_names\n",
      "\n",
      "\n",
      "R[write to console]: \n",
      "Attaching package: ‘gridExtra’\n",
      "\n",
      "\n",
      "R[write to console]: The following object is masked from ‘package:dplyr’:\n",
      "\n",
      "    combine\n",
      "\n",
      "\n",
      "R[write to console]: \n",
      "Attaching package: ‘xgboost’\n",
      "\n",
      "\n",
      "R[write to console]: The following object is masked from ‘package:dplyr’:\n",
      "\n",
      "    slice\n",
      "\n",
      "\n"
     ]
    }
   ],
   "source": [
    "%%R \n",
    "source(\"utils.R\")\n",
    "library(survival)\n",
    "library(xgboost)"
   ]
  },
  {
   "cell_type": "code",
   "execution_count": 6,
   "metadata": {},
   "outputs": [],
   "source": [
    "import warnings\n",
    "warnings.filterwarnings('ignore', category=pd.errors.DtypeWarning)\n",
    "\n",
    "# Displays all the columns, does \n",
    "pd.set_option('display.max_columns', None)"
   ]
  },
  {
   "cell_type": "markdown",
   "metadata": {},
   "source": [
    "## Import data"
   ]
  },
  {
   "cell_type": "code",
   "execution_count": 7,
   "metadata": {},
   "outputs": [],
   "source": [
    "model = 'xgb'\n",
    "cancer = 'ugica'\n",
    "ro.globalenv['model'] = model\n",
    "ro.globalenv['cancer'] = cancer\n",
    "\n",
    "analysis_num = '3.2'"
   ]
  },
  {
   "cell_type": "code",
   "execution_count": 8,
   "metadata": {},
   "outputs": [],
   "source": [
    "%%R \n",
    "r_df_normal <- read.csv(\"df_analysis0_imputed.csv\")\n",
    "\n",
    "outcome_interval <- \"_10yr\"\n",
    "outcome <- ifelse(cancer == \"ugica\", cancer, paste0(\"ugica_\", cancer)) \n",
    "outcome_event <- paste0(tolower(cancer), outcome_interval)\n",
    "model_filename <- paste0(model, \"_\", outcome_event, \".rds\")"
   ]
  },
  {
   "cell_type": "code",
   "execution_count": 9,
   "metadata": {},
   "outputs": [],
   "source": [
    "univariate_filename = f'./../results/univariate_analysis_{analysis_num}_{cancer}.csv'\n",
    "multivariate_filename = f'./../results/multivariate_analysis_{analysis_num}_{cancer}.csv'\n",
    "risk_results_filename = f'./../results/risk_results_analysis_{analysis_num}_{cancer}.csv'\n",
    "outcome_event = r['outcome_event'][0]\n",
    "outcome_interval = r['outcome_interval'][0]\n"
   ]
  },
  {
   "cell_type": "code",
   "execution_count": 10,
   "metadata": {},
   "outputs": [],
   "source": [
    "# Pass the DataFrame into the R environment\n",
    "def pass_df(df, r_df_name):\n",
    "    ro.globalenv[r_df_name] = df\n",
    "\n",
    "ro.globalenv['numerical_vars'] = utils.NUMERICAL_VARS\n",
    "ro.globalenv['categorical_vars'] = utils.CATEGORICAL_VARS\n",
    "ro.globalenv['univariate_filename'] = str(univariate_filename)\n",
    "ro.globalenv['multivariate_filename'] = str(multivariate_filename)"
   ]
  },
  {
   "cell_type": "markdown",
   "metadata": {},
   "source": [
    "## XGBoost with manual feature selection"
   ]
  },
  {
   "cell_type": "markdown",
   "metadata": {},
   "source": [
    "#### Clean up features"
   ]
  },
  {
   "cell_type": "code",
   "execution_count": 11,
   "metadata": {},
   "outputs": [
    {
     "name": "stdout",
     "output_type": "stream",
     "text": [
      " [1] \"sex_missing\"                   \"race_clean\"                   \n",
      " [3] \"ethnicity\"                     \"alcohol_binary\"               \n",
      " [5] \"tobacco_binary\"                \"hpylori_active_chronic_binary\"\n",
      " [7] \"hnca\"                          \"achalasia\"                    \n",
      " [9] \"pud\"                           \"gerd\"                         \n",
      "[11] \"cad\"                           \"famhx_cancer\"                 \n",
      "[13] \"famhx_esophagealca\"            \"famhx_gastricca\"              \n",
      "[15] \"famhx_colonca\"                 \"famhx_barretts\"               \n",
      "[17] \"ASA\"                           \"PPI\"                          \n",
      "[19] \"NSAID\"                         \"age\"                          \n",
      "[21] \"BMI_baseline_all\"             \n"
     ]
    }
   ],
   "source": [
    "%%R \n",
    "selected_vars <- names(r_df_normal)[\n",
    "    !names(r_df_normal) %in% cols_to_ignore \n",
    "]\n",
    "selected_vars"
   ]
  },
  {
   "cell_type": "markdown",
   "metadata": {},
   "source": [
    "#### Split dataset into training and validation\n",
    "Use R to ensure similar dataset as prior analyses"
   ]
  },
  {
   "cell_type": "code",
   "execution_count": 12,
   "metadata": {},
   "outputs": [
    {
     "name": "stdout",
     "output_type": "stream",
     "text": [
      "[1] \"Dataset Controls 33890\" \"Dataset Cases 293\"     \n",
      "[1] \"Training Controls 27115\" \"Training Cases 232\"     \n",
      "[1] \"Validation Controls 6775\" \"Validation Cases 61\"     \n",
      "\n"
     ]
    }
   ],
   "source": [
    "%%R \n",
    "# Partition data\n",
    "splits <- partition_data(r_df_normal, selected_vars, outcome_event, p=0.8)\n",
    "train_set <- splits$train_set\n",
    "validation_set <- splits$validation_set"
   ]
  },
  {
   "cell_type": "code",
   "execution_count": 13,
   "metadata": {},
   "outputs": [
    {
     "data": {
      "text/plain": [
       "((27347, 49), (6836, 49))"
      ]
     },
     "execution_count": 13,
     "metadata": {},
     "output_type": "execute_result"
    }
   ],
   "source": [
    "r_df_train = r['train_set']\n",
    "df_train = pandas2ri.rpy2py(r_df_train)\n",
    "\n",
    "r_df_validation = r['validation_set']\n",
    "df_validation = pandas2ri.rpy2py(r_df_validation)\n",
    "\n",
    "df_train.shape, df_validation.shape\n"
   ]
  },
  {
   "cell_type": "code",
   "execution_count": 14,
   "metadata": {},
   "outputs": [
    {
     "data": {
      "text/plain": [
       "array(['race_clean', 'sex_missing', 'age_bucket', 'visit_year_bucket'],\n",
       "      dtype='<U17')"
      ]
     },
     "execution_count": 14,
     "metadata": {},
     "output_type": "execute_result"
    }
   ],
   "source": [
    "cols_to_stratify = r['cols_to_stratify']\n",
    "cols_to_stratify"
   ]
  },
  {
   "cell_type": "code",
   "execution_count": 15,
   "metadata": {},
   "outputs": [
    {
     "data": {
      "text/plain": [
       "((27347, 21), (27347,), (6836, 21), (6836,))"
      ]
     },
     "execution_count": 15,
     "metadata": {},
     "output_type": "execute_result"
    }
   ],
   "source": [
    "cols_to_remove = ['age_bucket', 'visit_year_bucket',\n",
    "    'months_to_event', 'ugica', 'ugica_ESCC', 'ugica_EAC', 'ugica_CGC', 'ugica_NCGC',\n",
    "    'ugica_10yr', 'ugica_5yr', 'ugica_3yr', 'ugica_1yr', \n",
    "    'escc_10yr', 'escc_5yr', 'escc_3yr', 'escc_1yr', \n",
    "    'eac_10yr', 'eac_5yr', 'eac_3yr', 'eac_1yr', \n",
    "    'cgc_10yr', 'cgc_5yr', 'cgc_3yr', 'cgc_1yr', \n",
    "    'ncgc_10yr', 'ncgc_5yr', 'ncgc_3yr', 'ncgc_1yr'\n",
    "]\n",
    "\n",
    "X_train = df_train.drop(columns=[outcome_event] + list(cols_to_remove))\n",
    "X_validation = df_validation.drop(columns=[outcome_event] + list(cols_to_remove))\n",
    "\n",
    "y_train = df_train.loc[:, outcome_event]\n",
    "y_validation = df_validation.loc[:, outcome_event]\n",
    "\n",
    "X_train.shape, y_train.shape, X_validation.shape, y_validation.shape\n"
   ]
  },
  {
   "cell_type": "code",
   "execution_count": 16,
   "metadata": {},
   "outputs": [
    {
     "name": "stdout",
     "output_type": "stream",
     "text": [
      "Encoding column: sex_missing\n",
      "Encoding column: race_clean\n",
      "Encoding column: ethnicity\n"
     ]
    }
   ],
   "source": [
    "# Encode categorical columns using label encoding for XGBClassifier\n",
    "from sklearn.preprocessing import LabelEncoder\n",
    "\n",
    "label_encoders = {}\n",
    "for col in X_train.select_dtypes(include=['object']).columns:\n",
    "\tprint(f\"Encoding column: {col}\")\n",
    "\tle = LabelEncoder()\n",
    "\tX_train[col] = le.fit_transform(X_train[col])\n",
    "\tX_validation[col] = le.transform(X_validation[col])\n",
    "\tlabel_encoders[col] = le\n"
   ]
  },
  {
   "cell_type": "code",
   "execution_count": 17,
   "metadata": {},
   "outputs": [
    {
     "name": "stdout",
     "output_type": "stream",
     "text": [
      "Original Model AUROC: 0.7818\n",
      "Selected Features Model AUROC: 0.7643\n",
      "Selected Features Model AUROC (Pipeline): 0.7416\n"
     ]
    }
   ],
   "source": [
    "# Train an XGBClassifier without any manual feature selection\n",
    "model = xgb.XGBClassifier(n_estimators=50, learning_rate=0.1, random_state=42, max_depth=3, reg_alpha=0.7, reg_lambda=1.2)\n",
    "model.fit(X_train, y_train)\n",
    "\n",
    "# Train with the top 10 features based on feature importance scores \n",
    "importance_scores = model.feature_importances_\n",
    "selected_features = importance_scores.argsort()[-10:]\n",
    "selected_model = xgb.XGBClassifier(n_estimators=50, learning_rate=0.1, random_state=42, max_depth=3, reg_alpha=0.7, reg_lambda=1.2)\n",
    "selected_model.fit(X_train.iloc[:, selected_features], y_train)\n",
    "\n",
    "# Using scikit-learn's SelectFromModel for feature selection\n",
    "selector = SelectFromModel(model, prefit=True)\n",
    "X_train_selected = selector.transform(X_train)\n",
    "X_validation_selected = selector.transform(X_validation)\n",
    "selected_model_pipeline = xgb.XGBClassifier(n_estimators=50, learning_rate=0.1, random_state=42, max_depth=3, reg_alpha=0.7, reg_lambda=1.2)\n",
    "selected_model_pipeline.fit(X_train_selected, y_train)\n",
    "\n",
    "# Evaluate the original model\n",
    "y_pred = model.predict_proba(X_validation)[:, 1]\n",
    "original_auroc = roc_auc_score(y_validation, y_pred)\n",
    "\n",
    "# Evaluate the model with selected features\n",
    "y_pred_selected = selected_model.predict_proba(X_validation.iloc[:, selected_features])[:, 1]\n",
    "selected_auroc = roc_auc_score(y_validation, y_pred_selected)\n",
    "\n",
    "# Evaluate the model with selected features using the pipeline\n",
    "y_pred_pipeline = selected_model_pipeline.predict_proba(X_validation_selected)[:, 1]\n",
    "selected_auroc_pipeline = roc_auc_score(y_validation, y_pred_pipeline)\n",
    "\n",
    "print(f\"Original Model AUROC: {original_auroc:.4f}\")\n",
    "print(f\"Selected Features Model AUROC: {selected_auroc:.4f}\")\n",
    "print(f\"Selected Features Model AUROC (Pipeline): {selected_auroc_pipeline:.4f}\")"
   ]
  },
  {
   "cell_type": "code",
   "execution_count": 18,
   "metadata": {},
   "outputs": [
    {
     "name": "stdout",
     "output_type": "stream",
     "text": [
      "Best Model AUROC: 0.7818\n"
     ]
    }
   ],
   "source": [
    "# Set the model to the one with the best AUROC\n",
    "models = [model, selected_model, selected_model_pipeline]\n",
    "aurocs = [original_auroc, selected_auroc, selected_auroc_pipeline]\n",
    "y_preds = [y_pred, y_pred_selected, y_pred_pipeline]\n",
    "\n",
    "best_model = None\n",
    "best_auroc = -1\n",
    "best_pred = None\n",
    "\n",
    "for i, auroc in enumerate(aurocs):\n",
    "    if auroc > best_auroc:\n",
    "        best_model = models[i]\n",
    "        best_auroc = auroc\n",
    "        best_pred = y_preds[i]\n",
    "\n",
    "print(f\"Best Model AUROC: {best_auroc:.4f}\")"
   ]
  },
  {
   "cell_type": "code",
   "execution_count": 19,
   "metadata": {},
   "outputs": [],
   "source": [
    "ro.globalenv[\"pred_risk\"] = best_pred\n",
    "ro.globalenv[\"actual_event\"] = y_validation"
   ]
  },
  {
   "cell_type": "code",
   "execution_count": 20,
   "metadata": {},
   "outputs": [
    {
     "name": "stderr",
     "output_type": "stream",
     "text": [
      "R[write to console]: Setting levels: control = 0, case = 1\n",
      "\n",
      "R[write to console]: Setting direction: controls < cases\n",
      "\n"
     ]
    },
    {
     "name": "stdout",
     "output_type": "stream",
     "text": [
      "\n",
      "Sensitivity and Metrics at Threshold set by Youden index"
     ]
    },
    {
     "name": "stderr",
     "output_type": "stream",
     "text": [
      "R[write to console]: Setting levels: control = 0, case = 1\n",
      "\n",
      "R[write to console]: Setting direction: controls < cases\n",
      "\n"
     ]
    },
    {
     "name": "stdout",
     "output_type": "stream",
     "text": [
      "C-statistic (AUROC): 0.782 \n",
      "Sensitivity: 0.7377049 \n",
      "Specificity: 0.7279705 \n",
      "PPV: 0.02383475 \n",
      "NPV: 0.9967664 \n",
      "NNS: 48.54106 \n",
      "     predicted_class\n",
      "event    0    1\n",
      "    0 4932 1843\n",
      "    1   16   45\n"
     ]
    },
    {
     "data": {
      "image/png": "[encoded data removed]",
      "text/plain": [
       "<IPython.core.display.Image object>"
      ]
     },
     "metadata": {},
     "output_type": "display_data"
    }
   ],
   "source": [
    "%%R\n",
    "# Find the threshold that maximizes Youden's J (sensitivity + specificity - 1)\n",
    "roc_obj <- roc(response = actual_event, predictor = pred_risk)\n",
    "optimal_threshold <- coords(\n",
    "  roc_obj,\n",
    "  x = \"best\",\n",
    "  best.method = \"youden\",\n",
    "  transpose = FALSE\n",
    ")$threshold\n",
    "\n",
    "cat(\"\\nSensitivity and Metrics at Threshold set by Youden index\")\n",
    "calculate_cm_by_percentile(pred_risk, actual_event, optimal_threshold)\n",
    "\n",
    "# Plot ROC \n",
    "p1 <- plot_roc_gg(actual_event, pred_risk)\n",
    "p1"
   ]
  },
  {
   "cell_type": "code",
   "execution_count": 21,
   "metadata": {},
   "outputs": [
    {
     "name": "stdout",
     "output_type": "stream",
     "text": [
      "0.7238150965476887\n"
     ]
    }
   ],
   "source": [
    "df_validation_risk = df_validation.copy()\n",
    "df_validation_risk['pred_risk'] = best_pred\n",
    "optimal_threshold = r['optimal_threshold'][0]\n",
    "optimal_threshold_percentile = percentileofscore(df_validation_risk['pred_risk'], optimal_threshold, kind='weak')/100.\n",
    "print(optimal_threshold_percentile)\n",
    "percentile_cutoffs = [0.4, 0.5, 0.6, 0.8, 0.9, 1, optimal_threshold_percentile]\n",
    "\n",
    "#Create different risk percentiles\n",
    "df_validation_risk_percentile = generate_risk_percentile_df(df_validation_risk, 'pred_risk', percentile_cutoffs, optimal_threshold)"
   ]
  },
  {
   "cell_type": "code",
   "execution_count": 22,
   "metadata": {},
   "outputs": [
    {
     "name": "stderr",
     "output_type": "stream",
     "text": [
      "/Users/alyssa.chen/Library/CloudStorage/OneDrive-TheMountSinaiHospital/Research/UGIRisk/Analysis/ugi-risk/notebook/helpers/utils.py:73: RuntimeWarning: divide by zero encountered in scalar divide\n",
      "  nns = 1/aer\n"
     ]
    }
   ],
   "source": [
    "risk_groups = [f\"risk_p{percentile_cutoffs[i+1]}\" for i in range(len(percentile_cutoffs) - 1)]\n",
    "events = [f'ugica{outcome_interval}', f'escc{outcome_interval}', f'eac{outcome_interval}', f'cgc{outcome_interval}', f'ncgc{outcome_interval}']\n",
    "race_groups = df_validation_risk.race_clean.unique()\n",
    "age_groups = df_validation_risk.age_bucket.unique()\n",
    "sex_groups = df_validation_risk.sex_missing.unique()\n",
    "visit_year_groups = df_validation_risk.visit_year_bucket.unique()\n",
    "\n",
    "results_dataframe = []\n",
    "\n",
    "# Get summary statistics for each risk percentile \n",
    "for risk_group in risk_groups:\n",
    "    for event in events: \n",
    "        row = classification_metrics(df_validation_risk, risk_group, event)\n",
    "        results_dataframe.append(row)\n",
    "\n",
    "# Get summary statistics for each race \n",
    "for race in race_groups:\n",
    "    df_risk_race = df_validation_risk[df_validation_risk.race_clean == race]\n",
    "\n",
    "    row = classification_metrics(df_risk_race, \"high_risk_youden\", outcome_event, race)\n",
    "    results_dataframe.append(row)\n",
    "\n",
    "# Get summary statistics for each sex \n",
    "for sex in sex_groups:\n",
    "    df_risk_sex = df_validation_risk[df_validation_risk.sex_missing == sex]\n",
    "\n",
    "    row = classification_metrics(df_risk_sex, \"high_risk_youden\", outcome_event, sex)\n",
    "    results_dataframe.append(row)\n",
    "\n",
    "# Get summary statistics for each age\n",
    "for age_bucket in age_groups:\n",
    "    df_risk_age = df_validation_risk[df_validation_risk.age_bucket == age_bucket]\n",
    "\n",
    "    row = classification_metrics(df_risk_age, \"high_risk_youden\", outcome_event, age_bucket)\n",
    "    results_dataframe.append(row)\n",
    "\n",
    "# Get summary statistics for visit year ranges\n",
    "for visit_year_bucket in visit_year_groups:\n",
    "    df_risk_visit_year = df_validation_risk[df_validation_risk.visit_year_bucket == visit_year_bucket]\n",
    "\n",
    "    row = classification_metrics(df_risk_visit_year, \"high_risk_youden\", outcome_event, visit_year_bucket)\n",
    "    results_dataframe.append(row)\n",
    "\n",
    "df_results = pd.DataFrame(results_dataframe)"
   ]
  },
  {
   "cell_type": "code",
   "execution_count": 23,
   "metadata": {},
   "outputs": [
    {
     "data": {
      "text/html": [
       "<div>\n",
       "<style scoped>\n",
       "    .dataframe tbody tr th:only-of-type {\n",
       "        vertical-align: middle;\n",
       "    }\n",
       "\n",
       "    .dataframe tbody tr th {\n",
       "        vertical-align: top;\n",
       "    }\n",
       "\n",
       "    .dataframe thead th {\n",
       "        text-align: right;\n",
       "    }\n",
       "</style>\n",
       "<table border=\"1\" class=\"dataframe\">\n",
       "  <thead>\n",
       "    <tr style=\"text-align: right;\">\n",
       "      <th></th>\n",
       "      <th>risk_group</th>\n",
       "      <th>risk_percentile</th>\n",
       "      <th>event</th>\n",
       "      <th>strata</th>\n",
       "      <th>actual controls</th>\n",
       "      <th>actual cases</th>\n",
       "      <th>total pts in risk group</th>\n",
       "      <th>cancer prevalence in risk group</th>\n",
       "      <th>prevalence</th>\n",
       "      <th>tp</th>\n",
       "      <th>fp</th>\n",
       "      <th>fn</th>\n",
       "      <th>tn</th>\n",
       "      <th>pred correct</th>\n",
       "      <th>pred incorrect</th>\n",
       "      <th>sensitivity</th>\n",
       "      <th>specificity</th>\n",
       "      <th>ppv</th>\n",
       "      <th>npv</th>\n",
       "      <th>nns</th>\n",
       "      <th>youden_index</th>\n",
       "    </tr>\n",
       "  </thead>\n",
       "  <tbody>\n",
       "    <tr>\n",
       "      <th>25</th>\n",
       "      <td>risk_p0.7238150965476887</td>\n",
       "      <td>0.723815</td>\n",
       "      <td>ugica_10yr</td>\n",
       "      <td>all</td>\n",
       "      <td>6775</td>\n",
       "      <td>61</td>\n",
       "      <td>4621</td>\n",
       "      <td>50 (1.1%)</td>\n",
       "      <td>1.1</td>\n",
       "      <td>50</td>\n",
       "      <td>4571</td>\n",
       "      <td>11</td>\n",
       "      <td>2204</td>\n",
       "      <td>0.329725</td>\n",
       "      <td>0.670275</td>\n",
       "      <td>81.967213</td>\n",
       "      <td>32.531365</td>\n",
       "      <td>1.082017</td>\n",
       "      <td>99.503386</td>\n",
       "      <td>170.822527</td>\n",
       "      <td>0.144986</td>\n",
       "    </tr>\n",
       "    <tr>\n",
       "      <th>26</th>\n",
       "      <td>risk_p0.7238150965476887</td>\n",
       "      <td>0.723815</td>\n",
       "      <td>escc_10yr</td>\n",
       "      <td>all</td>\n",
       "      <td>6820</td>\n",
       "      <td>16</td>\n",
       "      <td>4621</td>\n",
       "      <td>10 (0.2%)</td>\n",
       "      <td>0.2</td>\n",
       "      <td>10</td>\n",
       "      <td>4611</td>\n",
       "      <td>6</td>\n",
       "      <td>2209</td>\n",
       "      <td>0.324605</td>\n",
       "      <td>0.675395</td>\n",
       "      <td>62.500000</td>\n",
       "      <td>32.390029</td>\n",
       "      <td>0.216403</td>\n",
       "      <td>99.729120</td>\n",
       "      <td>-1835.637554</td>\n",
       "      <td>-0.051100</td>\n",
       "    </tr>\n",
       "    <tr>\n",
       "      <th>27</th>\n",
       "      <td>risk_p0.7238150965476887</td>\n",
       "      <td>0.723815</td>\n",
       "      <td>eac_10yr</td>\n",
       "      <td>all</td>\n",
       "      <td>6824</td>\n",
       "      <td>12</td>\n",
       "      <td>4621</td>\n",
       "      <td>10 (0.2%)</td>\n",
       "      <td>0.2</td>\n",
       "      <td>10</td>\n",
       "      <td>4611</td>\n",
       "      <td>2</td>\n",
       "      <td>2213</td>\n",
       "      <td>0.325190</td>\n",
       "      <td>0.674810</td>\n",
       "      <td>83.333333</td>\n",
       "      <td>32.429660</td>\n",
       "      <td>0.216403</td>\n",
       "      <td>99.909707</td>\n",
       "      <td>792.959018</td>\n",
       "      <td>0.157630</td>\n",
       "    </tr>\n",
       "    <tr>\n",
       "      <th>28</th>\n",
       "      <td>risk_p0.7238150965476887</td>\n",
       "      <td>0.723815</td>\n",
       "      <td>cgc_10yr</td>\n",
       "      <td>all</td>\n",
       "      <td>6822</td>\n",
       "      <td>14</td>\n",
       "      <td>4621</td>\n",
       "      <td>13 (0.3%)</td>\n",
       "      <td>0.3</td>\n",
       "      <td>13</td>\n",
       "      <td>4608</td>\n",
       "      <td>1</td>\n",
       "      <td>2214</td>\n",
       "      <td>0.325775</td>\n",
       "      <td>0.674225</td>\n",
       "      <td>92.857143</td>\n",
       "      <td>32.453826</td>\n",
       "      <td>0.281324</td>\n",
       "      <td>99.954853</td>\n",
       "      <td>423.410069</td>\n",
       "      <td>0.253110</td>\n",
       "    </tr>\n",
       "    <tr>\n",
       "      <th>29</th>\n",
       "      <td>risk_p0.7238150965476887</td>\n",
       "      <td>0.723815</td>\n",
       "      <td>ncgc_10yr</td>\n",
       "      <td>all</td>\n",
       "      <td>6817</td>\n",
       "      <td>19</td>\n",
       "      <td>4621</td>\n",
       "      <td>17 (0.4%)</td>\n",
       "      <td>0.4</td>\n",
       "      <td>17</td>\n",
       "      <td>4604</td>\n",
       "      <td>2</td>\n",
       "      <td>2213</td>\n",
       "      <td>0.326214</td>\n",
       "      <td>0.673786</td>\n",
       "      <td>89.473684</td>\n",
       "      <td>32.462960</td>\n",
       "      <td>0.367886</td>\n",
       "      <td>99.909707</td>\n",
       "      <td>360.240559</td>\n",
       "      <td>0.219366</td>\n",
       "    </tr>\n",
       "  </tbody>\n",
       "</table>\n",
       "</div>"
      ],
      "text/plain": [
       "                  risk_group risk_percentile       event strata  \\\n",
       "25  risk_p0.7238150965476887        0.723815  ugica_10yr    all   \n",
       "26  risk_p0.7238150965476887        0.723815   escc_10yr    all   \n",
       "27  risk_p0.7238150965476887        0.723815    eac_10yr    all   \n",
       "28  risk_p0.7238150965476887        0.723815    cgc_10yr    all   \n",
       "29  risk_p0.7238150965476887        0.723815   ncgc_10yr    all   \n",
       "\n",
       "    actual controls  actual cases  total pts in risk group  \\\n",
       "25             6775            61                     4621   \n",
       "26             6820            16                     4621   \n",
       "27             6824            12                     4621   \n",
       "28             6822            14                     4621   \n",
       "29             6817            19                     4621   \n",
       "\n",
       "   cancer prevalence in risk group  prevalence  tp    fp  fn    tn  \\\n",
       "25                       50 (1.1%)         1.1  50  4571  11  2204   \n",
       "26                       10 (0.2%)         0.2  10  4611   6  2209   \n",
       "27                       10 (0.2%)         0.2  10  4611   2  2213   \n",
       "28                       13 (0.3%)         0.3  13  4608   1  2214   \n",
       "29                       17 (0.4%)         0.4  17  4604   2  2213   \n",
       "\n",
       "    pred correct  pred incorrect  sensitivity  specificity       ppv  \\\n",
       "25      0.329725        0.670275    81.967213    32.531365  1.082017   \n",
       "26      0.324605        0.675395    62.500000    32.390029  0.216403   \n",
       "27      0.325190        0.674810    83.333333    32.429660  0.216403   \n",
       "28      0.325775        0.674225    92.857143    32.453826  0.281324   \n",
       "29      0.326214        0.673786    89.473684    32.462960  0.367886   \n",
       "\n",
       "          npv          nns  youden_index  \n",
       "25  99.503386   170.822527      0.144986  \n",
       "26  99.729120 -1835.637554     -0.051100  \n",
       "27  99.909707   792.959018      0.157630  \n",
       "28  99.954853   423.410069      0.253110  \n",
       "29  99.909707   360.240559      0.219366  "
      ]
     },
     "execution_count": 23,
     "metadata": {},
     "output_type": "execute_result"
    }
   ],
   "source": [
    "df_results[df_results.risk_percentile == optimal_threshold_percentile]"
   ]
  },
  {
   "cell_type": "code",
   "execution_count": 24,
   "metadata": {},
   "outputs": [],
   "source": [
    "df_results.to_csv(risk_results_filename)"
   ]
  },
  {
   "cell_type": "code",
   "execution_count": 25,
   "metadata": {},
   "outputs": [
    {
     "name": "stderr",
     "output_type": "stream",
     "text": [
      "/Users/alyssa.chen/miniconda3/envs/rpy2_env/lib/python3.10/site-packages/rpy2/robjects/pandas2ri.py:65: UserWarning: Error while trying to convert the column \"term\". Fall back to string conversion. The error is: <class 'numpy.str_'>\n",
      "  warnings.warn('Error while trying to convert '\n"
     ]
    }
   ],
   "source": [
    "# Get the best model's features and importances\n",
    "feature_names = None \n",
    "if best_model == model:\n",
    "    feature_names = X_train.columns\n",
    "elif best_model == selected_model:\n",
    "    feature_names =  X_train.columns[selected_features]\n",
    "elif best_model == selected_model_pipeline:\n",
    "    selected_feature_indices = selector.get_support(indices=True)\n",
    "    feature_names = X_train.columns[selected_feature_indices]\n",
    "\n",
    "importances = best_model.feature_importances_\n",
    "\n",
    "# Create DataFrame\n",
    "importance_df = pd.DataFrame({\n",
    "    \"term\": feature_names,\n",
    "    \"importance\": importances\n",
    "}).sort_values(by=\"importance\", ascending=False)\n",
    "\n",
    "# Pass to R\n",
    "%R -i importance_df"
   ]
  },
  {
   "cell_type": "code",
   "execution_count": 26,
   "metadata": {},
   "outputs": [
    {
     "data": {
      "image/png": "[encoded data removed]",
      "text/plain": [
       "<IPython.core.display.Image object>"
      ]
     },
     "metadata": {},
     "output_type": "display_data"
    }
   ],
   "source": [
    "%%R\n",
    "library(dplyr)\n",
    "library(ggplot2)\n",
    "\n",
    "# Use pretty names if available\n",
    "pretty_names <- c(\n",
    "  \"ethnicity\" = \"Ethnicity\",\n",
    "  \"alcohol_binary\" = \"Alcohol Use\",\n",
    "  \"ASA\" = \"Ever aspirin use\",\n",
    "  \"tobacco_binary\" = \"Ever tobacco use\",\n",
    "  \"NSAID\" = \"Ever NSAID use\",\n",
    "  \"race_clean\" = \"Race\",\n",
    "  \"age_scaled\" = \"Age\",\n",
    "  \"sex_missing\" = \"Sex\",\n",
    "  \"famhx_gastricca\" = \"FHx of gastric cancer\",\n",
    "  \"hpylori_active_chronic_binary\" = \"Active or chronic H.pylori infection\",\n",
    "  \"PPI\" = \"Ever PPI use\",\n",
    "  \"cad\" = \"Coronary artery disease\", \n",
    "  \"famhx_cancer\" = \"FHx of cancer\",\n",
    "  \"famhx_colonca\" = \"FHx of colon cancer\",\n",
    "  \"gerd\" = \"GERD\",\n",
    "  \"pud\" = \"Peptic ulcer disease\",\n",
    "  \"hnca\" = \"Head and neck cancer\",\n",
    "  \"height_baseline\" = \"Height\",\n",
    "  \"weight_baseline\" = \"Weight\",\n",
    "  \"BMI_baseline_all\" = \"BMI\",\n",
    "  \"famhx_esophagealca\" = \"FHx of esophageal cancer\",\n",
    "  \"famhx_barretts\" = \"FHx of Barretts\",\n",
    "  \"achalasia\" = \"Achalasia\"\n",
    ")\n",
    "\n",
    "# Format the dataframe\n",
    "importance_df <- importance_df %>%\n",
    "  mutate(\n",
    "    Variable_pretty = pretty_names[term],\n",
    "    Variable_pretty = ifelse(is.na(Variable_pretty), term, Variable_pretty),\n",
    "    imp_label = sprintf(\"%.3f\", importance),\n",
    "  ) %>%\n",
    "  arrange(importance) %>%\n",
    "  mutate(Variable_pretty = factor(Variable_pretty, levels = Variable_pretty)) %>%\n",
    "  mutate(y_pos = as.numeric(Variable_pretty))\n",
    "  \n",
    "\n",
    "# Plot as a forest-style plot\n",
    "ggplot(importance_df, aes(x = importance, y = Variable_pretty)) +\n",
    "  geom_point(color = \"steelblue\", size = 3) +\n",
    "  \n",
    "  # Labels for importance >= 0.1 (under the segment)\n",
    "  geom_text(\n",
    "    data = subset(importance_df, importance >= 0.1),\n",
    "    aes(x = importance - 0.05, y = y_pos - 0.5, label = imp_label),\n",
    "    hjust = 0.5, size = 4\n",
    "  ) +\n",
    "\n",
    "  # Labels for importance < 0.1 (right of the dot)\n",
    "  geom_text(\n",
    "    data = subset(importance_df, importance < 0.1),\n",
    "    aes(x = importance + 0.01, y = Variable_pretty, label = imp_label),\n",
    "    hjust = -0.1, size = 4\n",
    "  ) +\n",
    "  \n",
    "  geom_segment(aes(x = 0, xend = importance, y = Variable_pretty, yend = Variable_pretty),\n",
    "               color = \"steelblue\", size = 1) +\n",
    "  labs(\n",
    "    title = \"XGBoost Feature Importances\",\n",
    "    x = \"Feature Importance Score\",\n",
    "    y = NULL\n",
    "  ) +\n",
    "  theme_minimal(base_size = 12) +\n",
    "  theme(\n",
    "    axis.text.y = element_text(size = 12),\n",
    "    axis.text.x = element_text(size = 10),\n",
    "    plot.title = element_text(face = \"bold\", size = 14, hjust = 0.5)\n",
    "  )\n"
   ]
  }
 ],
 "metadata": {
  "kernelspec": {
   "display_name": "rpy2_env",
   "language": "python",
   "name": "python3"
  },
  "language_info": {
   "codemirror_mode": {
    "name": "ipython",
    "version": 3
   },
   "file_extension": ".py",
   "mimetype": "text/x-python",
   "name": "python",
   "nbconvert_exporter": "python",
   "pygments_lexer": "ipython3",
   "version": "3.10.13"
  }
 },
 "nbformat": 4,
 "nbformat_minor": 2
}
